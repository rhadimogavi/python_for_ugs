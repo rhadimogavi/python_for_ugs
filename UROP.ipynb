{
 "cells": [
  {
   "cell_type": "markdown",
   "metadata": {},
   "source": [
    "# help and print Instructions"
   ]
  },
  {
   "cell_type": "code",
   "execution_count": 3,
   "metadata": {},
   "outputs": [
    {
     "name": "stdout",
     "output_type": "stream",
     "text": [
      "Help on class int in module builtins:\n",
      "\n",
      "class int(object)\n",
      " |  int([x]) -> integer\n",
      " |  int(x, base=10) -> integer\n",
      " |  \n",
      " |  Convert a number or string to an integer, or return 0 if no arguments\n",
      " |  are given.  If x is a number, return x.__int__().  For floating point\n",
      " |  numbers, this truncates towards zero.\n",
      " |  \n",
      " |  If x is not a number or if base is given, then x must be a string,\n",
      " |  bytes, or bytearray instance representing an integer literal in the\n",
      " |  given base.  The literal can be preceded by '+' or '-' and be surrounded\n",
      " |  by whitespace.  The base defaults to 10.  Valid bases are 0 and 2-36.\n",
      " |  Base 0 means to interpret the base from the string as an integer literal.\n",
      " |  >>> int('0b100', base=0)\n",
      " |  4\n",
      " |  \n",
      " |  Methods defined here:\n",
      " |  \n",
      " |  __abs__(self, /)\n",
      " |      abs(self)\n",
      " |  \n",
      " |  __add__(self, value, /)\n",
      " |      Return self+value.\n",
      " |  \n",
      " |  __and__(self, value, /)\n",
      " |      Return self&value.\n",
      " |  \n",
      " |  __bool__(self, /)\n",
      " |      self != 0\n",
      " |  \n",
      " |  __ceil__(...)\n",
      " |      Ceiling of an Integral returns itself.\n",
      " |  \n",
      " |  __divmod__(self, value, /)\n",
      " |      Return divmod(self, value).\n",
      " |  \n",
      " |  __eq__(self, value, /)\n",
      " |      Return self==value.\n",
      " |  \n",
      " |  __float__(self, /)\n",
      " |      float(self)\n",
      " |  \n",
      " |  __floor__(...)\n",
      " |      Flooring an Integral returns itself.\n",
      " |  \n",
      " |  __floordiv__(self, value, /)\n",
      " |      Return self//value.\n",
      " |  \n",
      " |  __format__(self, format_spec, /)\n",
      " |      Default object formatter.\n",
      " |  \n",
      " |  __ge__(self, value, /)\n",
      " |      Return self>=value.\n",
      " |  \n",
      " |  __getattribute__(self, name, /)\n",
      " |      Return getattr(self, name).\n",
      " |  \n",
      " |  __getnewargs__(self, /)\n",
      " |  \n",
      " |  __gt__(self, value, /)\n",
      " |      Return self>value.\n",
      " |  \n",
      " |  __hash__(self, /)\n",
      " |      Return hash(self).\n",
      " |  \n",
      " |  __index__(self, /)\n",
      " |      Return self converted to an integer, if self is suitable for use as an index into a list.\n",
      " |  \n",
      " |  __int__(self, /)\n",
      " |      int(self)\n",
      " |  \n",
      " |  __invert__(self, /)\n",
      " |      ~self\n",
      " |  \n",
      " |  __le__(self, value, /)\n",
      " |      Return self<=value.\n",
      " |  \n",
      " |  __lshift__(self, value, /)\n",
      " |      Return self<<value.\n",
      " |  \n",
      " |  __lt__(self, value, /)\n",
      " |      Return self<value.\n",
      " |  \n",
      " |  __mod__(self, value, /)\n",
      " |      Return self%value.\n",
      " |  \n",
      " |  __mul__(self, value, /)\n",
      " |      Return self*value.\n",
      " |  \n",
      " |  __ne__(self, value, /)\n",
      " |      Return self!=value.\n",
      " |  \n",
      " |  __neg__(self, /)\n",
      " |      -self\n",
      " |  \n",
      " |  __or__(self, value, /)\n",
      " |      Return self|value.\n",
      " |  \n",
      " |  __pos__(self, /)\n",
      " |      +self\n",
      " |  \n",
      " |  __pow__(self, value, mod=None, /)\n",
      " |      Return pow(self, value, mod).\n",
      " |  \n",
      " |  __radd__(self, value, /)\n",
      " |      Return value+self.\n",
      " |  \n",
      " |  __rand__(self, value, /)\n",
      " |      Return value&self.\n",
      " |  \n",
      " |  __rdivmod__(self, value, /)\n",
      " |      Return divmod(value, self).\n",
      " |  \n",
      " |  __repr__(self, /)\n",
      " |      Return repr(self).\n",
      " |  \n",
      " |  __rfloordiv__(self, value, /)\n",
      " |      Return value//self.\n",
      " |  \n",
      " |  __rlshift__(self, value, /)\n",
      " |      Return value<<self.\n",
      " |  \n",
      " |  __rmod__(self, value, /)\n",
      " |      Return value%self.\n",
      " |  \n",
      " |  __rmul__(self, value, /)\n",
      " |      Return value*self.\n",
      " |  \n",
      " |  __ror__(self, value, /)\n",
      " |      Return value|self.\n",
      " |  \n",
      " |  __round__(...)\n",
      " |      Rounding an Integral returns itself.\n",
      " |      Rounding with an ndigits argument also returns an integer.\n",
      " |  \n",
      " |  __rpow__(self, value, mod=None, /)\n",
      " |      Return pow(value, self, mod).\n",
      " |  \n",
      " |  __rrshift__(self, value, /)\n",
      " |      Return value>>self.\n",
      " |  \n",
      " |  __rshift__(self, value, /)\n",
      " |      Return self>>value.\n",
      " |  \n",
      " |  __rsub__(self, value, /)\n",
      " |      Return value-self.\n",
      " |  \n",
      " |  __rtruediv__(self, value, /)\n",
      " |      Return value/self.\n",
      " |  \n",
      " |  __rxor__(self, value, /)\n",
      " |      Return value^self.\n",
      " |  \n",
      " |  __sizeof__(self, /)\n",
      " |      Returns size in memory, in bytes.\n",
      " |  \n",
      " |  __str__(self, /)\n",
      " |      Return str(self).\n",
      " |  \n",
      " |  __sub__(self, value, /)\n",
      " |      Return self-value.\n",
      " |  \n",
      " |  __truediv__(self, value, /)\n",
      " |      Return self/value.\n",
      " |  \n",
      " |  __trunc__(...)\n",
      " |      Truncating an Integral returns itself.\n",
      " |  \n",
      " |  __xor__(self, value, /)\n",
      " |      Return self^value.\n",
      " |  \n",
      " |  bit_length(self, /)\n",
      " |      Number of bits necessary to represent self in binary.\n",
      " |      \n",
      " |      >>> bin(37)\n",
      " |      '0b100101'\n",
      " |      >>> (37).bit_length()\n",
      " |      6\n",
      " |  \n",
      " |  conjugate(...)\n",
      " |      Returns self, the complex conjugate of any int.\n",
      " |  \n",
      " |  to_bytes(self, /, length, byteorder, *, signed=False)\n",
      " |      Return an array of bytes representing an integer.\n",
      " |      \n",
      " |      length\n",
      " |        Length of bytes object to use.  An OverflowError is raised if the\n",
      " |        integer is not representable with the given number of bytes.\n",
      " |      byteorder\n",
      " |        The byte order used to represent the integer.  If byteorder is 'big',\n",
      " |        the most significant byte is at the beginning of the byte array.  If\n",
      " |        byteorder is 'little', the most significant byte is at the end of the\n",
      " |        byte array.  To request the native byte order of the host system, use\n",
      " |        `sys.byteorder' as the byte order value.\n",
      " |      signed\n",
      " |        Determines whether two's complement is used to represent the integer.\n",
      " |        If signed is False and a negative integer is given, an OverflowError\n",
      " |        is raised.\n",
      " |  \n",
      " |  ----------------------------------------------------------------------\n",
      " |  Class methods defined here:\n",
      " |  \n",
      " |  from_bytes(bytes, byteorder, *, signed=False) from builtins.type\n",
      " |      Return the integer represented by the given array of bytes.\n",
      " |      \n",
      " |      bytes\n",
      " |        Holds the array of bytes to convert.  The argument must either\n",
      " |        support the buffer protocol or be an iterable object producing bytes.\n",
      " |        Bytes and bytearray are examples of built-in objects that support the\n",
      " |        buffer protocol.\n",
      " |      byteorder\n",
      " |        The byte order used to represent the integer.  If byteorder is 'big',\n",
      " |        the most significant byte is at the beginning of the byte array.  If\n",
      " |        byteorder is 'little', the most significant byte is at the end of the\n",
      " |        byte array.  To request the native byte order of the host system, use\n",
      " |        `sys.byteorder' as the byte order value.\n",
      " |      signed\n",
      " |        Indicates whether two's complement is used to represent the integer.\n",
      " |  \n",
      " |  ----------------------------------------------------------------------\n",
      " |  Static methods defined here:\n",
      " |  \n",
      " |  __new__(*args, **kwargs) from builtins.type\n",
      " |      Create and return a new object.  See help(type) for accurate signature.\n",
      " |  \n",
      " |  ----------------------------------------------------------------------\n",
      " |  Data descriptors defined here:\n",
      " |  \n",
      " |  denominator\n",
      " |      the denominator of a rational number in lowest terms\n",
      " |  \n",
      " |  imag\n",
      " |      the imaginary part of a complex number\n",
      " |  \n",
      " |  numerator\n",
      " |      the numerator of a rational number in lowest terms\n",
      " |  \n",
      " |  real\n",
      " |      the real part of a complex number\n",
      "\n"
     ]
    }
   ],
   "source": [
    "help(int)#Use help"
   ]
  },
  {
   "cell_type": "code",
   "execution_count": 13,
   "metadata": {},
   "outputs": [
    {
     "name": "stdout",
     "output_type": "stream",
     "text": [
      "*************\n",
      "** ------- **\n",
      "**|       |**\n",
      "**|       |**\n",
      "**|       |**\n",
      "**|       |**\n",
      "**|       |**\n",
      "**|       |**\n",
      "**|       |**\n",
      "**|       |**\n",
      "** ------- **\n",
      "*************\n"
     ]
    }
   ],
   "source": [
    "# (ESC+L) will enumerate the lines of code\n",
    "# (ctrl+?) will comment and uncomment things\n",
    "# (ctrl+]) will help to indent several lines of codes at once\n",
    "# (shift + enter) will execute the code inside each cell                                    \n",
    "\"\"\"\n",
    "These are also comments\n",
    "You can write comments in several lines\n",
    "This is cool!\n",
    "\"\"\"\n",
    "print(\"*************\")\n",
    "print(\"** ------- **\") \n",
    "print(\"**|       |**\") \n",
    "print(\"**|       |**\")\n",
    "print(\"**|       |**\")\n",
    "print(\"**|       |**\")\n",
    "print(\"**|       |**\")\n",
    "print(\"**|       |**\")\n",
    "print(\"**|       |**\")\n",
    "print(\"**|       |**\")\n",
    "print(\"** ------- **\")\n",
    "print(\"*************\")"
   ]
  },
  {
   "cell_type": "code",
   "execution_count": 53,
   "metadata": {},
   "outputs": [
    {
     "name": "stdout",
     "output_type": "stream",
     "text": [
      "72\n",
      "42\n",
      "104\n",
      "10\n"
     ]
    }
   ],
   "source": [
    "# ASCII representation\n",
    "# Each character is represented by a number between 0 and 256 stored in an 8 bit memory\n",
    "# We can use ord() function to find the numeric value of a simple ASCII character\n",
    "print(ord(\"H\"))\n",
    "print(ord(\"*\"))\n",
    "print(ord(\"h\"))\n",
    "print(ord(\"\\n\")) # Remember that new line is a single character"
   ]
  },
  {
   "cell_type": "code",
   "execution_count": 56,
   "metadata": {},
   "outputs": [
    {
     "name": "stdout",
     "output_type": "stream",
     "text": [
      "<class 'str'>\n"
     ]
    }
   ],
   "source": [
    "# Unicode\n",
    "# UTF-8 is a particular (the most popular) way of encoding Unicode\n",
    "# UTF-8 is a variable length encoding with a minimum of 8 bits per character. Characters with higher code points will take up to 32 bits. \n",
    "\n",
    "# In python3, all strings are unicode\n",
    "x = \"你好\"\n",
    "print(type(x))"
   ]
  },
  {
   "cell_type": "markdown",
   "metadata": {},
   "source": [
    "# Variables"
   ]
  },
  {
   "cell_type": "code",
   "execution_count": 15,
   "metadata": {},
   "outputs": [
    {
     "name": "stdout",
     "output_type": "stream",
     "text": [
      "There was a guy named Reza,\n",
      "and his age is 21.\n",
      "His income is 6165135.\n",
      "His brother is  18 .\n",
      "His brother is 18.\n"
     ]
    }
   ],
   "source": [
    "character_name = \"Reza\"\n",
    "character_age = \"25\"\n",
    "brother_age = 18\n",
    "income = 30000000\n",
    "isMale = True\n",
    "isRich = False\n",
    "print(\"There was a guy named \" + character_name +\",\")\n",
    "print(\"and his age is \" + character_age + \".\")\n",
    "print(\"His income is \" + str(income) + \".\")# We cannot use + for int concatenation\n",
    "print(\"His brother is \", brother_age, \".\")\n",
    "print(\"His brother is \" + str(brother_age) + \".\")"
   ]
  },
  {
   "cell_type": "markdown",
   "metadata": {},
   "source": [
    "# Strings"
   ]
  },
  {
   "cell_type": "code",
   "execution_count": 17,
   "metadata": {},
   "outputs": [
    {
     "name": "stdout",
     "output_type": "stream",
     "text": [
      "Welcome to school\n",
      "\n",
      "my name is\n",
      " Reza.\n",
      "This \"character\" is important.\n"
     ]
    }
   ],
   "source": [
    "# In python 3, all strings are unicode. We can show all characters we wish\n",
    "# Strings are immutable\n",
    "print(\"Welcome to school\\n\")\n",
    "print(\"my name is\\n Reza.\")\n",
    "print(\"This \\\"character\\\" is important.\")"
   ]
  },
  {
   "cell_type": "code",
   "execution_count": 165,
   "metadata": {},
   "outputs": [
    {
     "name": "stdout",
     "output_type": "stream",
     "text": [
      "a\n"
     ]
    }
   ],
   "source": [
    "fruit = \"banana\"\n",
    "print(fruit[1])"
   ]
  },
  {
   "cell_type": "code",
   "execution_count": 166,
   "metadata": {},
   "outputs": [
    {
     "name": "stdout",
     "output_type": "stream",
     "text": [
      "n\n"
     ]
    }
   ],
   "source": [
    "x = 3\n",
    "print(fruit[x-1])"
   ]
  },
  {
   "cell_type": "code",
   "execution_count": 167,
   "metadata": {},
   "outputs": [
    {
     "ename": "IndexError",
     "evalue": "string index out of range",
     "output_type": "error",
     "traceback": [
      "\u001b[1;31m---------------------------------------------------------------------------\u001b[0m",
      "\u001b[1;31mIndexError\u001b[0m                                Traceback (most recent call last)",
      "\u001b[1;32m<ipython-input-167-4fe83879706b>\u001b[0m in \u001b[0;36m<module>\u001b[1;34m\u001b[0m\n\u001b[1;32m----> 1\u001b[1;33m \u001b[0mprint\u001b[0m\u001b[1;33m(\u001b[0m\u001b[0mfruit\u001b[0m\u001b[1;33m[\u001b[0m\u001b[1;36m6\u001b[0m\u001b[1;33m]\u001b[0m\u001b[1;33m)\u001b[0m\u001b[1;33m\u001b[0m\u001b[1;33m\u001b[0m\u001b[0m\n\u001b[0m",
      "\u001b[1;31mIndexError\u001b[0m: string index out of range"
     ]
    }
   ],
   "source": [
    "print(fruit[6]) # This will return an error, because such index does not exist in fruit string variable"
   ]
  },
  {
   "cell_type": "code",
   "execution_count": 177,
   "metadata": {},
   "outputs": [
    {
     "name": "stdout",
     "output_type": "stream",
     "text": [
      "False\n",
      "True\n",
      "True\n",
      "False\n"
     ]
    }
   ],
   "source": [
    "# using \"in\" as a logical operator\n",
    "print(\"b\" in \"apple\")\n",
    "print(\"b\" in fruit)\n",
    "print(\"nan\" in fruit)\n",
    "print(\"m\" in fruit)"
   ]
  },
  {
   "cell_type": "code",
   "execution_count": 183,
   "metadata": {},
   "outputs": [
    {
     "name": "stdout",
     "output_type": "stream",
     "text": [
      "2\n"
     ]
    }
   ],
   "source": [
    "print(fruit.find(\"na\"))# The first \"na\" it encounters"
   ]
  },
  {
   "cell_type": "code",
   "execution_count": 184,
   "metadata": {},
   "outputs": [
    {
     "name": "stdout",
     "output_type": "stream",
     "text": [
      "-1\n"
     ]
    }
   ],
   "source": [
    "print(fruit.find(\"z\"))#It shows flag -1 if nothing is found"
   ]
  },
  {
   "cell_type": "code",
   "execution_count": 185,
   "metadata": {},
   "outputs": [
    {
     "name": "stdout",
     "output_type": "stream",
     "text": [
      "Banana\n"
     ]
    }
   ],
   "source": [
    "print(fruit.capitalize())"
   ]
  },
  {
   "cell_type": "code",
   "execution_count": 181,
   "metadata": {},
   "outputs": [
    {
     "name": "stdout",
     "output_type": "stream",
     "text": [
      "hello bob!\n",
      "HELLO BOB!\n"
     ]
    }
   ],
   "source": [
    "Greet = \"HELLO BOB!\"\n",
    "print(Greet.lower())# The original Greet will not change, we just create a copy\n",
    "print(Greet)"
   ]
  },
  {
   "cell_type": "code",
   "execution_count": 182,
   "metadata": {},
   "outputs": [
    {
     "data": {
      "text/plain": [
       "['__add__',\n",
       " '__class__',\n",
       " '__contains__',\n",
       " '__delattr__',\n",
       " '__dir__',\n",
       " '__doc__',\n",
       " '__eq__',\n",
       " '__format__',\n",
       " '__ge__',\n",
       " '__getattribute__',\n",
       " '__getitem__',\n",
       " '__getnewargs__',\n",
       " '__gt__',\n",
       " '__hash__',\n",
       " '__init__',\n",
       " '__init_subclass__',\n",
       " '__iter__',\n",
       " '__le__',\n",
       " '__len__',\n",
       " '__lt__',\n",
       " '__mod__',\n",
       " '__mul__',\n",
       " '__ne__',\n",
       " '__new__',\n",
       " '__reduce__',\n",
       " '__reduce_ex__',\n",
       " '__repr__',\n",
       " '__rmod__',\n",
       " '__rmul__',\n",
       " '__setattr__',\n",
       " '__sizeof__',\n",
       " '__str__',\n",
       " '__subclasshook__',\n",
       " 'capitalize',\n",
       " 'casefold',\n",
       " 'center',\n",
       " 'count',\n",
       " 'encode',\n",
       " 'endswith',\n",
       " 'expandtabs',\n",
       " 'find',\n",
       " 'format',\n",
       " 'format_map',\n",
       " 'index',\n",
       " 'isalnum',\n",
       " 'isalpha',\n",
       " 'isascii',\n",
       " 'isdecimal',\n",
       " 'isdigit',\n",
       " 'isidentifier',\n",
       " 'islower',\n",
       " 'isnumeric',\n",
       " 'isprintable',\n",
       " 'isspace',\n",
       " 'istitle',\n",
       " 'isupper',\n",
       " 'join',\n",
       " 'ljust',\n",
       " 'lower',\n",
       " 'lstrip',\n",
       " 'maketrans',\n",
       " 'partition',\n",
       " 'replace',\n",
       " 'rfind',\n",
       " 'rindex',\n",
       " 'rjust',\n",
       " 'rpartition',\n",
       " 'rsplit',\n",
       " 'rstrip',\n",
       " 'split',\n",
       " 'splitlines',\n",
       " 'startswith',\n",
       " 'strip',\n",
       " 'swapcase',\n",
       " 'title',\n",
       " 'translate',\n",
       " 'upper',\n",
       " 'zfill']"
      ]
     },
     "execution_count": 182,
     "metadata": {},
     "output_type": "execute_result"
    }
   ],
   "source": [
    "dir(Greet) #shows methods in class str"
   ]
  },
  {
   "cell_type": "code",
   "execution_count": 18,
   "metadata": {},
   "outputs": [
    {
     "name": "stdout",
     "output_type": "stream",
     "text": [
      "1001\n"
     ]
    }
   ],
   "source": [
    "Number = '1000'\n",
    "print(int(Number)+1)"
   ]
  },
  {
   "cell_type": "code",
   "execution_count": 19,
   "metadata": {},
   "outputs": [
    {
     "name": "stdout",
     "output_type": "stream",
     "text": [
      "who are you? Reza\n"
     ]
    }
   ],
   "source": [
    "nam = input('who are you? ')"
   ]
  },
  {
   "cell_type": "code",
   "execution_count": 3,
   "metadata": {},
   "outputs": [
    {
     "name": "stdout",
     "output_type": "stream",
     "text": [
      "Reza\n"
     ]
    }
   ],
   "source": [
    "print(nam)"
   ]
  },
  {
   "cell_type": "code",
   "execution_count": 20,
   "metadata": {},
   "outputs": [
    {
     "name": "stdout",
     "output_type": "stream",
     "text": [
      "He is a rich guy. He is from Finland. He helps everyone to be happy.\n"
     ]
    }
   ],
   "source": [
    "TEXT1 = \"He is a rich guy. He is from Finland. He helps everyone to be happy.\"\n",
    "TEXT2 = \"My name is Reza!\"\n",
    "\n",
    "print(TEXT1)"
   ]
  },
  {
   "cell_type": "code",
   "execution_count": 21,
   "metadata": {},
   "outputs": [
    {
     "name": "stdout",
     "output_type": "stream",
     "text": [
      "False\n"
     ]
    }
   ],
   "source": [
    "print(TEXT1.isupper())"
   ]
  },
  {
   "cell_type": "code",
   "execution_count": 23,
   "metadata": {},
   "outputs": [
    {
     "name": "stdout",
     "output_type": "stream",
     "text": [
      "HE IS A RICH GUY. HE IS FROM FINLAND. HE HELPS EVERYONE TO BE HAPPY.\n"
     ]
    }
   ],
   "source": [
    "print(TEXT1.upper())#Makes every letter capital"
   ]
  },
  {
   "cell_type": "code",
   "execution_count": 25,
   "metadata": {},
   "outputs": [
    {
     "name": "stdout",
     "output_type": "stream",
     "text": [
      "True\n",
      "False\n"
     ]
    }
   ],
   "source": [
    "print(TEXT1.upper().isupper())\n",
    "print(TEXT2.isupper())"
   ]
  },
  {
   "cell_type": "code",
   "execution_count": 29,
   "metadata": {},
   "outputs": [
    {
     "name": "stdout",
     "output_type": "stream",
     "text": [
      "3\n",
      "1\n",
      "1\n"
     ]
    }
   ],
   "source": [
    "print(TEXT1.count(\"He\"))\n",
    "print(TEXT1.count(\"he\"))\n",
    "print(TEXT1.count(\"ch\"))"
   ]
  },
  {
   "cell_type": "code",
   "execution_count": 31,
   "metadata": {},
   "outputs": [
    {
     "name": "stdout",
     "output_type": "stream",
     "text": [
      "68\n",
      "5\n"
     ]
    }
   ],
   "source": [
    "Length = len(TEXT1) #len() function returns the number of characters in the string\n",
    "print(Length)\n",
    "\n",
    "A = [11, 22, 33, 44, 50]\n",
    "Length2 = len(A) #len() function returns the number of items in an object. \n",
    "print(Length2)"
   ]
  },
  {
   "cell_type": "code",
   "execution_count": 33,
   "metadata": {},
   "outputs": [
    {
     "name": "stdout",
     "output_type": "stream",
     "text": [
      "He is a rich guy. He is from Finland. He helps everyone to be happy.\n"
     ]
    }
   ],
   "source": [
    "if len(TEXT1)>len(TEXT2):\n",
    "    print(TEXT1)\n",
    "else:\n",
    "    print(TEXT2)"
   ]
  },
  {
   "cell_type": "code",
   "execution_count": 37,
   "metadata": {},
   "outputs": [
    {
     "name": "stdout",
     "output_type": "stream",
     "text": [
      "Hi Reza! \n",
      "characters =  8\n"
     ]
    }
   ],
   "source": [
    "if len(TEXT1)<len(TEXT2):\n",
    "    print(TEXT1, \"\\ncharacters = \", len(TEXT1))\n",
    "else:\n",
    "    print(TEXT2, \"\\ncharacters = \", len(TEXT2))"
   ]
  },
  {
   "cell_type": "code",
   "execution_count": 40,
   "metadata": {},
   "outputs": [
    {
     "name": "stdout",
     "output_type": "stream",
     "text": [
      "H\n",
      "e\n",
      " \n",
      "i\n",
      "s\n"
     ]
    }
   ],
   "source": [
    "print(TEXT1[0]) # We can use brackets to access specific characters\n",
    "print(TEXT1[1]) # Python starts indexing the characters in a string from zero (0)\n",
    "print(TEXT1[2])\n",
    "print(TEXT1[3])\n",
    "print(TEXT1[4])"
   ]
  },
  {
   "cell_type": "code",
   "execution_count": 41,
   "metadata": {},
   "outputs": [
    {
     "ename": "ValueError",
     "evalue": "substring not found",
     "output_type": "error",
     "traceback": [
      "\u001b[1;31m---------------------------------------------------------------------------\u001b[0m",
      "\u001b[1;31mValueError\u001b[0m                                Traceback (most recent call last)",
      "\u001b[1;32m<ipython-input-41-cc0c04890f6e>\u001b[0m in \u001b[0;36m<module>\u001b[1;34m\u001b[0m\n\u001b[1;32m----> 1\u001b[1;33m \u001b[0mIndx\u001b[0m \u001b[1;33m=\u001b[0m \u001b[0mTEXT1\u001b[0m\u001b[1;33m.\u001b[0m\u001b[0mindex\u001b[0m\u001b[1;33m(\u001b[0m\u001b[1;34m\"!\"\u001b[0m\u001b[1;33m)\u001b[0m\u001b[1;33m\u001b[0m\u001b[1;33m\u001b[0m\u001b[0m\n\u001b[0m\u001b[0;32m      2\u001b[0m \u001b[0mprint\u001b[0m\u001b[1;33m(\u001b[0m\u001b[0mIndx\u001b[0m\u001b[1;33m)\u001b[0m\u001b[1;33m\u001b[0m\u001b[1;33m\u001b[0m\u001b[0m\n",
      "\u001b[1;31mValueError\u001b[0m: substring not found"
     ]
    }
   ],
   "source": [
    "Indx = TEXT1.index(\"!\") # If character is not found, it will show an error\n",
    "print(Indx)"
   ]
  },
  {
   "cell_type": "code",
   "execution_count": 42,
   "metadata": {},
   "outputs": [
    {
     "name": "stdout",
     "output_type": "stream",
     "text": [
      "7\n"
     ]
    }
   ],
   "source": [
    "Indx = TEXT2.index(\"!\") # If character is not found, it will show an error\n",
    "print(Indx)"
   ]
  },
  {
   "cell_type": "code",
   "execution_count": 186,
   "metadata": {},
   "outputs": [
    {
     "name": "stdout",
     "output_type": "stream",
     "text": [
      "Computer science is my favorite subject at school!\n",
      "English literature is my favorite subject at school!\n"
     ]
    }
   ],
   "source": [
    "phrase1 = \"English literature is my favorite subject at school!\"\n",
    "\n",
    "print(phrase1.replace(\"English literature\", \"Computer science\"))#This is a copy. The original would not change!!! # It replaces all of the instances that exist!!!\n",
    "print(phrase1)"
   ]
  },
  {
   "cell_type": "code",
   "execution_count": 168,
   "metadata": {},
   "outputs": [
    {
     "name": "stdout",
     "output_type": "stream",
     "text": [
      "0 H\n",
      "1 o\n",
      "2 n\n",
      "3 g\n",
      "4  \n",
      "5 K\n",
      "6 o\n",
      "7 n\n",
      "8 g\n"
     ]
    }
   ],
   "source": [
    "mystring = \"Hong Kong\"\n",
    "index = 0\n",
    "\n",
    "while index < len(mystring):\n",
    "    print(index, mystring[index])\n",
    "    index = index + 1"
   ]
  },
  {
   "cell_type": "code",
   "execution_count": 171,
   "metadata": {},
   "outputs": [
    {
     "name": "stdout",
     "output_type": "stream",
     "text": [
      "H\n",
      "o\n",
      "n\n",
      "g\n",
      " \n",
      "K\n",
      "o\n",
      "n\n",
      "g\n"
     ]
    }
   ],
   "source": [
    "for letter in mystring:\n",
    "    print(letter)"
   ]
  },
  {
   "cell_type": "code",
   "execution_count": 170,
   "metadata": {},
   "outputs": [
    {
     "name": "stdout",
     "output_type": "stream",
     "text": [
      "Number of o:  2\n"
     ]
    }
   ],
   "source": [
    "counter = 0\n",
    "for letter in mystring:\n",
    "    if letter == \"o\":\n",
    "        counter += 1\n",
    "print(\"Number of o: \", counter)"
   ]
  },
  {
   "cell_type": "code",
   "execution_count": 173,
   "metadata": {},
   "outputs": [
    {
     "name": "stdout",
     "output_type": "stream",
     "text": [
      "Hong Ko\n"
     ]
    }
   ],
   "source": [
    "# slicing\n",
    "print(mystring[0:7])"
   ]
  },
  {
   "cell_type": "code",
   "execution_count": 188,
   "metadata": {},
   "outputs": [
    {
     "name": "stdout",
     "output_type": "stream",
     "text": [
      "Hello Bob!           \n",
      "         Hello Bob!\n",
      "Hello Bob!\n"
     ]
    }
   ],
   "source": [
    "Message = \"         Hello Bob!           \"\n",
    "# How can we get rid of the white spaces?\n",
    "print(Message.lstrip()) # left strip # all of these strip instructions just make a copy and does not change the original Message\n",
    "print(Message.rstrip()) # right strip\n",
    "print(Message.strip())# strip"
   ]
  },
  {
   "cell_type": "code",
   "execution_count": 191,
   "metadata": {},
   "outputs": [
    {
     "name": "stdout",
     "output_type": "stream",
     "text": [
      "True\n",
      "False\n"
     ]
    }
   ],
   "source": [
    "Message2 = \"Tomorrow is Asal's birthday!\"\n",
    "print(Message2.startswith(\"To\"))\n",
    "print(Message2.startswith(\"to\"))"
   ]
  },
  {
   "cell_type": "code",
   "execution_count": 196,
   "metadata": {},
   "outputs": [
    {
     "name": "stdout",
     "output_type": "stream",
     "text": [
      "11\n",
      "26\n",
      "connect.ust.hk\n"
     ]
    }
   ],
   "source": [
    "email = \"rhadimogavi@connect.ust.hk Mon Jan 2017 16:30:20\"\n",
    "atpos = email.find(\"@\")\n",
    "print(atpos)\n",
    "sppos = email.find(\" \", atpos) #atpos is from wehere we start searching\n",
    "print(sppos)\n",
    "host = email[atpos+1:sppos]\n",
    "print(host) # This is how we extract data from a string"
   ]
  },
  {
   "cell_type": "code",
   "execution_count": 40,
   "metadata": {},
   "outputs": [
    {
     "name": "stdout",
     "output_type": "stream",
     "text": [
      "['I', 'am', 'very', 'pleased', 'to', 'inform', 'you', 'that', 'you', 'are', 'admitted', 'to', 'HKUST.', 'I', 'hope', 'we', 'can', 'meet', 'you', 'more.']\n",
      "I is used 2 times.\n"
     ]
    }
   ],
   "source": [
    "#Split breaks a string into parts and produces a list of strings. We think of these as words. We can access a particular world or loop through all words\n",
    "p1 = \"I am very pleased to inform you that you are admitted to HKUST. I hope we can meet you more.\"\n",
    "wlist = p1.split()\n",
    "print(wlist)\n",
    "\n",
    "count = 0\n",
    "for word in wlist:\n",
    "    if word == \"I\":\n",
    "        count += 1\n",
    "print(\"I is used\", count, \"times.\")"
   ]
  },
  {
   "cell_type": "code",
   "execution_count": 43,
   "metadata": {},
   "outputs": [
    {
     "name": "stdout",
     "output_type": "stream",
     "text": [
      "['20', '32', '40', '50', '60']\n"
     ]
    }
   ],
   "source": [
    "# We can tell python to split based on another character. For example a comma\n",
    "p2 = \"20,32,40,50,60\"\n",
    "nlist = p2.split(\",\")\n",
    "print(nlist)"
   ]
  },
  {
   "cell_type": "code",
   "execution_count": 45,
   "metadata": {},
   "outputs": [
    {
     "name": "stdout",
     "output_type": "stream",
     "text": [
      "engineer.reza84@gmail.com\n",
      "gmail.com\n"
     ]
    }
   ],
   "source": [
    "# The double split pattern\n",
    "p3 = \"From engineer.reza84@gmail.com SAT 2017 2:30:12\"\n",
    "\n",
    "fsplit = p3.split()\n",
    "print(fsplit[1])\n",
    "\n",
    "ssplit = fsplit[1].split(\"@\")\n",
    "print(ssplit[1])"
   ]
  },
  {
   "cell_type": "markdown",
   "metadata": {},
   "source": [
    "# Numbers"
   ]
  },
  {
   "cell_type": "code",
   "execution_count": 46,
   "metadata": {},
   "outputs": [
    {
     "name": "stdout",
     "output_type": "stream",
     "text": [
      "36\n",
      "-36.7\n",
      "10\n",
      "5.5\n",
      "2\n",
      "60000000\n",
      "354.21\n",
      "9\n",
      "7\n",
      "2\n",
      "3\n",
      "4\n"
     ]
    }
   ],
   "source": [
    "print(36)\n",
    "print(-36.7)\n",
    "print(3 + 4 * 2 - 1)\n",
    "print(11/2)\n",
    "print(11 % 3) # This operator is called mod and gives the remainder value\n",
    "Wage = 60000000\n",
    "print(Wage)\n",
    "number1 = -354.21\n",
    "print(abs(number1))\n",
    "print(pow(3, 2))#3^2\n",
    "print(max(2, 7))\n",
    "print(min(2, 7))\n",
    "print(round(3.2))\n",
    "print(round(3.9))"
   ]
  },
  {
   "cell_type": "code",
   "execution_count": 49,
   "metadata": {},
   "outputs": [
    {
     "name": "stdout",
     "output_type": "stream",
     "text": [
      "32\n"
     ]
    }
   ],
   "source": [
    "print(pow(2, 5))#2^5"
   ]
  },
  {
   "cell_type": "code",
   "execution_count": 54,
   "metadata": {},
   "outputs": [
    {
     "name": "stdout",
     "output_type": "stream",
     "text": [
      "70\n",
      "70.0\n",
      "70.0\n",
      "70.1\n"
     ]
    }
   ],
   "source": [
    "number1 = \"59\"\n",
    "number2 = \"59.00\"\n",
    "number3 = \"59.10\"\n",
    "\n",
    "print(int(number1) + 11)\n",
    "print(float(number1) + 11)\n",
    "\n",
    "# print(int(number2) + 11) #This line of code is wrong\n",
    "print(float(number2) + 11)\n",
    "\n",
    "# print(int(number3) + 11)\n",
    "print(float(number3) + 11)"
   ]
  },
  {
   "cell_type": "code",
   "execution_count": 156,
   "metadata": {},
   "outputs": [
    {
     "name": "stdout",
     "output_type": "stream",
     "text": [
      "16\n",
      "9\n",
      "27\n"
     ]
    }
   ],
   "source": [
    "print(2**4)\n",
    "a = 3\n",
    "b = 2\n",
    "print(a**b)\n",
    "print(pow(3, 3))"
   ]
  },
  {
   "cell_type": "code",
   "execution_count": 77,
   "metadata": {},
   "outputs": [
    {
     "name": "stdout",
     "output_type": "stream",
     "text": [
      "3\n",
      "4\n",
      "6.0\n"
     ]
    }
   ],
   "source": [
    "from math import * # more math functions. math here is a module\n",
    "print(floor(3.7))\n",
    "print(ceil(3.7))\n",
    "print(sqrt(36))"
   ]
  },
  {
   "cell_type": "markdown",
   "metadata": {},
   "source": [
    "# Lists"
   ]
  },
  {
   "cell_type": "code",
   "execution_count": 26,
   "metadata": {},
   "outputs": [
    {
     "name": "stdout",
     "output_type": "stream",
     "text": [
      "[]\n",
      "['a']\n"
     ]
    }
   ],
   "source": [
    "# We can create an empty list like below:\n",
    "emlist = list()\n",
    "print(emlist)\n",
    "\n",
    "# We can append to our list:\n",
    "emlist.append(\"a\")\n",
    "print(emlist)\n",
    "# Lists maintain order"
   ]
  },
  {
   "cell_type": "code",
   "execution_count": 34,
   "metadata": {},
   "outputs": [
    {
     "name": "stdout",
     "output_type": "stream",
     "text": [
      "['A', 'B', 'C', 'D', 'E', 'F', 'G', 'H', 'I', 'J', 'K', 'L', 'M', 'N', 'O', 'P', 'Q', 'R', 'S', 'T', 'U', 'V', 'W', 'X', 'Y', 'Z']\n",
      "We have 26 alphabet letters in our list.\n"
     ]
    }
   ],
   "source": [
    "alphlist = [\"I\", \"J\", \"K\", \"A\", \"B\", \"C\", \"D\", \"H\", \"L\", \"M\", \"N\", \"O\", \"P\", \"Q\", \"V\", \"W\", \"X\", \"Y\", \"Z\", \"R\", \"S\", \"E\", \"F\", \"G\", \"T\", \"U\"]\n",
    "# list is a mutable (changeable object)\n",
    "alphlist.sort()\n",
    "print(alphlist)\n",
    "\n",
    "# How many items are there in the list?\n",
    "print(\"We have\", len(alphlist), \"alphabet letters in our list.\")"
   ]
  },
  {
   "cell_type": "code",
   "execution_count": 29,
   "metadata": {},
   "outputs": [],
   "source": [
    "students = [\"Sam\", \"Reza\", \"James\", \"John\", \"Ann\", \"Ehsan\", \"Pedram\"]\n",
    "List1 = [\"Sam\", 12, True] #Lists can include anything! Really anything!"
   ]
  },
  {
   "cell_type": "code",
   "execution_count": 31,
   "metadata": {},
   "outputs": [
    {
     "name": "stdout",
     "output_type": "stream",
     "text": [
      "['Sam', 'Reza', 'James', 'John', 'Ann', 'Ehsan', 'Pedram']\n",
      "True\n",
      "True\n",
      "['Sam', 12, True]\n"
     ]
    }
   ],
   "source": [
    "print(students)\n",
    "print(\"Reza\" in students) # True or False. # Is Reza in students?\n",
    "print(\"Habib\" not in students)\n",
    "print(List1)"
   ]
  },
  {
   "cell_type": "code",
   "execution_count": 8,
   "metadata": {},
   "outputs": [
    {
     "name": "stdout",
     "output_type": "stream",
     "text": [
      "Ann\n",
      "Pedram\n",
      "James\n",
      "James\n"
     ]
    }
   ],
   "source": [
    "# Getting access to the items in a list\n",
    "students = [\"Sam\", \"Reza\", \"James\", \"John\", \"Ann\", \"Ehsan\", \"Pedram\"]\n",
    "print(students[4])\n",
    "print(students[-1])\n",
    "print(students[-5])\n",
    "print(students[2])"
   ]
  },
  {
   "cell_type": "code",
   "execution_count": 57,
   "metadata": {},
   "outputs": [],
   "source": [
    "# Now let's learn about slicing~\n",
    "# for selecting a portion:\n",
    "A = [10, 20, 30, 40, 50, 60, 70, 80, 90, 100, 110, 120, 140, 160, 180, 200, 210]"
   ]
  },
  {
   "cell_type": "code",
   "execution_count": 58,
   "metadata": {},
   "outputs": [
    {
     "name": "stdout",
     "output_type": "stream",
     "text": [
      "[20, 30, 40, 50, 60, 70]\n"
     ]
    }
   ],
   "source": [
    "print(A[1:7])"
   ]
  },
  {
   "cell_type": "code",
   "execution_count": 59,
   "metadata": {},
   "outputs": [
    {
     "name": "stdout",
     "output_type": "stream",
     "text": [
      "[20, 40, 60]\n"
     ]
    }
   ],
   "source": [
    "print(A[1:7:2])"
   ]
  },
  {
   "cell_type": "code",
   "execution_count": 61,
   "metadata": {},
   "outputs": [
    {
     "name": "stdout",
     "output_type": "stream",
     "text": [
      "[80, 70, 60, 50, 40, 30]\n"
     ]
    }
   ],
   "source": [
    "print(A[7:1:-1])"
   ]
  },
  {
   "cell_type": "code",
   "execution_count": 63,
   "metadata": {},
   "outputs": [
    {
     "name": "stdout",
     "output_type": "stream",
     "text": [
      "[210, 200, 180, 160, 140, 120, 110, 100, 90, 80, 70, 60, 50, 40, 30, 20, 10]\n"
     ]
    }
   ],
   "source": [
    "print(A[::-1])"
   ]
  },
  {
   "cell_type": "code",
   "execution_count": 64,
   "metadata": {},
   "outputs": [
    {
     "name": "stdout",
     "output_type": "stream",
     "text": [
      "[40, 50, 60, 70, 80, 90, 100, 110, 120, 140, 160, 180, 200, 210]\n"
     ]
    }
   ],
   "source": [
    "print(A[3:])"
   ]
  },
  {
   "cell_type": "code",
   "execution_count": 65,
   "metadata": {},
   "outputs": [
    {
     "name": "stdout",
     "output_type": "stream",
     "text": [
      "[30, 40, 50]\n"
     ]
    }
   ],
   "source": [
    "print(A[2:5])"
   ]
  },
  {
   "cell_type": "code",
   "execution_count": 66,
   "metadata": {},
   "outputs": [
    {
     "name": "stdout",
     "output_type": "stream",
     "text": [
      "['James', 'Ann']\n"
     ]
    }
   ],
   "source": [
    "print(students[2:5:2])"
   ]
  },
  {
   "cell_type": "code",
   "execution_count": 10,
   "metadata": {},
   "outputs": [
    {
     "name": "stdout",
     "output_type": "stream",
     "text": [
      "Karen\n",
      "['Sam', 'Reza', 'Karen', 'John', 'Ann', 'Ehsan', 'Pedram']\n"
     ]
    }
   ],
   "source": [
    "#Modify values inside lists:\n",
    "students[2] = \"Karen\"\n",
    "print(students[2])\n",
    "print(students)"
   ]
  },
  {
   "cell_type": "code",
   "execution_count": 38,
   "metadata": {},
   "outputs": [
    {
     "name": "stdout",
     "output_type": "stream",
     "text": [
      "Please enter a number: 2\n",
      "Please enter a number: 3\n",
      "Please enter a number: done\n",
      "The average value is: 2.5\n"
     ]
    }
   ],
   "source": [
    "numlist = list()\n",
    "while True:\n",
    "    value = input(\"Please enter a number: \")\n",
    "    if value == \"done\":\n",
    "        break\n",
    "    numlist.append(float(value))\n",
    "    \n",
    "print(\"The average value is:\", sum(numlist)/len(numlist))"
   ]
  },
  {
   "cell_type": "markdown",
   "metadata": {},
   "source": [
    "# List Functions"
   ]
  },
  {
   "cell_type": "code",
   "execution_count": 142,
   "metadata": {},
   "outputs": [],
   "source": [
    "students = [\"Sam\", \"Reza\", \"James\", \"John\", \"Ann\", \"Ehsan\", \"Pedram\", \"James\"]\n",
    "grades = [80, 95, 79, 85, 96, 99, 100, 65]"
   ]
  },
  {
   "cell_type": "code",
   "execution_count": 143,
   "metadata": {},
   "outputs": [
    {
     "name": "stdout",
     "output_type": "stream",
     "text": [
      "['Sam', 'Reza', 'James', 'John', 'Ann', 'Ehsan', 'Pedram', 'James']\n",
      "[80, 95, 79, 85, 96, 99, 100, 65]\n"
     ]
    }
   ],
   "source": [
    "print(students)\n",
    "print(grades)"
   ]
  },
  {
   "cell_type": "code",
   "execution_count": 144,
   "metadata": {},
   "outputs": [
    {
     "name": "stdout",
     "output_type": "stream",
     "text": [
      "['Sam', 'Reza', 'James', 'John', 'Ann', 'Ehsan', 'Pedram', 'James', 80, 95, 79, 85, 96, 99, 100, 65]\n"
     ]
    }
   ],
   "source": [
    "students.extend(grades)#add another list to the end of the list\n",
    "print(students)"
   ]
  },
  {
   "cell_type": "code",
   "execution_count": 145,
   "metadata": {},
   "outputs": [
    {
     "name": "stdout",
     "output_type": "stream",
     "text": [
      "['Sam', 'Reza', 'James', 'John', 'Ann', 'Ehsan', 'Pedram', 'James', 80, 95, 79, 85, 96, 99, 100, 65, 88]\n"
     ]
    }
   ],
   "source": [
    "students.append(88)#add a single element to the end of the list\n",
    "print(students)"
   ]
  },
  {
   "cell_type": "code",
   "execution_count": 146,
   "metadata": {},
   "outputs": [
    {
     "name": "stdout",
     "output_type": "stream",
     "text": [
      "['Sam', 'Bernadette', 'Reza', 'James', 'John', 'Ann', 'Ehsan', 'Pedram', 'James', 80, 95, 79, 85, 96, 99, 100, 65, 88]\n"
     ]
    }
   ],
   "source": [
    "students.insert(1, \"Bernadette\") #add item to a specific position\n",
    "print(students)"
   ]
  },
  {
   "cell_type": "code",
   "execution_count": 148,
   "metadata": {},
   "outputs": [
    {
     "name": "stdout",
     "output_type": "stream",
     "text": [
      "['Sam', 'Bernadette', 'Reza', 'James', 'John', 'Ann', 'Ehsan', 'Pedram', 'James', 80, 95, 79, 85, 96, 99, 100, 65, 88]\n"
     ]
    }
   ],
   "source": [
    "studentscopy1 = students #studentcopy1 is exactly the students. If you delete or clear one, the other will also be deleted or cleared \n",
    "studentscopy = students.copy()# Please copy a list like this\n",
    "print(studentscopy)"
   ]
  },
  {
   "cell_type": "code",
   "execution_count": 149,
   "metadata": {},
   "outputs": [
    {
     "name": "stdout",
     "output_type": "stream",
     "text": [
      "['Sam', 'Bernadette', 'Reza', 'John', 'Ann', 'Ehsan', 'Pedram', 'James', 80, 95, 79, 85, 96, 99, 100, 65, 88]\n"
     ]
    }
   ],
   "source": [
    "studentscopy.remove(\"James\")#only eliminates the first James\n",
    "print(studentscopy)"
   ]
  },
  {
   "cell_type": "code",
   "execution_count": 150,
   "metadata": {},
   "outputs": [
    {
     "name": "stdout",
     "output_type": "stream",
     "text": [
      "[]\n"
     ]
    }
   ],
   "source": [
    "studentscopy.clear()#This will clear everything on the list. It will give an empty list.\n",
    "print(studentscopy)"
   ]
  },
  {
   "cell_type": "code",
   "execution_count": 151,
   "metadata": {},
   "outputs": [
    {
     "name": "stdout",
     "output_type": "stream",
     "text": [
      "88\n",
      "['Sam', 'Bernadette', 'Reza', 'James', 'John', 'Ann', 'Ehsan', 'Pedram', 'James', 80, 95, 79, 85, 96, 99, 100, 65]\n"
     ]
    }
   ],
   "source": [
    "value = students.pop()#pops an element from the end of the list\n",
    "print(value)\n",
    "print(students)"
   ]
  },
  {
   "cell_type": "code",
   "execution_count": 152,
   "metadata": {},
   "outputs": [
    {
     "name": "stdout",
     "output_type": "stream",
     "text": [
      "['Sam', 'Bernadette', 'Reza', 'James', 'John', 'Ann', 'Ehsan', 'Pedram', 'James', 80, 95, 79, 85, 96, 99, 100, 65]\n"
     ]
    }
   ],
   "source": [
    "print(studentscopy1)"
   ]
  },
  {
   "cell_type": "code",
   "execution_count": 154,
   "metadata": {},
   "outputs": [
    {
     "name": "stdout",
     "output_type": "stream",
     "text": [
      "2\n"
     ]
    }
   ],
   "source": [
    "indx = students.index(\"Reza\") #reports the index of the first item found on the list\n",
    "print(indx)"
   ]
  },
  {
   "cell_type": "code",
   "execution_count": 156,
   "metadata": {},
   "outputs": [
    {
     "name": "stdout",
     "output_type": "stream",
     "text": [
      "James:  2 , Reza:  1\n"
     ]
    }
   ],
   "source": [
    "cnt = students.count(\"James\") #counts\n",
    "cnt1 = students.count(\"Reza\")\n",
    "print(\"James: \", cnt, \", Reza: \", cnt1)"
   ]
  },
  {
   "cell_type": "code",
   "execution_count": 157,
   "metadata": {},
   "outputs": [
    {
     "name": "stdout",
     "output_type": "stream",
     "text": [
      "[80, 95, 79, 85, 96, 99, 100, 65]\n"
     ]
    }
   ],
   "source": [
    "print(grades)"
   ]
  },
  {
   "cell_type": "code",
   "execution_count": 159,
   "metadata": {},
   "outputs": [
    {
     "name": "stdout",
     "output_type": "stream",
     "text": [
      "[65, 79, 80, 85, 95, 96, 99, 100]\n"
     ]
    }
   ],
   "source": [
    "grades.sort() #ascending order\n",
    "print(grades)"
   ]
  },
  {
   "cell_type": "code",
   "execution_count": 160,
   "metadata": {},
   "outputs": [
    {
     "name": "stdout",
     "output_type": "stream",
     "text": [
      "[100, 99, 96, 95, 85, 80, 79, 65]\n"
     ]
    }
   ],
   "source": [
    "grades.reverse() #reverse the order\n",
    "print(grades)"
   ]
  },
  {
   "cell_type": "code",
   "execution_count": 162,
   "metadata": {},
   "outputs": [
    {
     "name": "stdout",
     "output_type": "stream",
     "text": [
      "[100, 99, 96, 95, 85, 80, 79, 65]\n"
     ]
    }
   ],
   "source": [
    "grades2 = grades.copy() #make a copy from a list\n",
    "print(grades2)"
   ]
  },
  {
   "cell_type": "code",
   "execution_count": 163,
   "metadata": {},
   "outputs": [
    {
     "name": "stdout",
     "output_type": "stream",
     "text": [
      "[100, 99, 96, 85, 80, 79, 65]\n"
     ]
    }
   ],
   "source": [
    "del grades2[3]# delete a specific index from a list #85 is deleted\n",
    "print(grades2)"
   ]
  },
  {
   "cell_type": "code",
   "execution_count": 164,
   "metadata": {},
   "outputs": [
    {
     "name": "stdout",
     "output_type": "stream",
     "text": [
      "[100, 99, 96, 85, 79, 65]\n"
     ]
    }
   ],
   "source": [
    "grades2.pop(4)#you can also pop an item based on its index # 80 is popped out\n",
    "print(grades2)"
   ]
  },
  {
   "cell_type": "markdown",
   "metadata": {},
   "source": [
    "# Tuples (Immutable=You cannot change)"
   ]
  },
  {
   "cell_type": "code",
   "execution_count": 101,
   "metadata": {},
   "outputs": [
    {
     "name": "stdout",
     "output_type": "stream",
     "text": [
      "(1, 9, 12, 8, 4, 2, 2)\n",
      "9\n",
      "7\n",
      "12\n"
     ]
    }
   ],
   "source": [
    "# We use Parenthesis () to build tuples\n",
    "x = (1, 9, 12, 8, 4, 2, 2)\n",
    "print(x)\n",
    "print(x[1])\n",
    "print(len(x))\n",
    "print(max(x))"
   ]
  },
  {
   "cell_type": "code",
   "execution_count": 158,
   "metadata": {},
   "outputs": [
    {
     "data": {
      "text/plain": [
       "['__add__',\n",
       " '__class__',\n",
       " '__contains__',\n",
       " '__delattr__',\n",
       " '__dir__',\n",
       " '__doc__',\n",
       " '__eq__',\n",
       " '__format__',\n",
       " '__ge__',\n",
       " '__getattribute__',\n",
       " '__getitem__',\n",
       " '__getnewargs__',\n",
       " '__gt__',\n",
       " '__hash__',\n",
       " '__init__',\n",
       " '__init_subclass__',\n",
       " '__iter__',\n",
       " '__le__',\n",
       " '__len__',\n",
       " '__lt__',\n",
       " '__mul__',\n",
       " '__ne__',\n",
       " '__new__',\n",
       " '__reduce__',\n",
       " '__reduce_ex__',\n",
       " '__repr__',\n",
       " '__rmul__',\n",
       " '__setattr__',\n",
       " '__sizeof__',\n",
       " '__str__',\n",
       " '__subclasshook__',\n",
       " 'count',\n",
       " 'index']"
      ]
     },
     "execution_count": 158,
     "metadata": {},
     "output_type": "execute_result"
    }
   ],
   "source": [
    "# We cannot sort, reverse, or append to tuples\n",
    "x1 = (1, 4, 2, 7, 6, 0, 9, 6)\n",
    "# x1.sort() # does not work!!!!!!!!!!!!!\n",
    "# x1.append(5) #does not work!!!!!!!!!!!!!\n",
    "# x1.reverse() # does not work!!!!!!!!!!!!\n",
    "dir(x1)"
   ]
  },
  {
   "cell_type": "code",
   "execution_count": 162,
   "metadata": {},
   "outputs": [
    {
     "name": "stdout",
     "output_type": "stream",
     "text": [
      "2\n",
      "3\n"
     ]
    }
   ],
   "source": [
    "print(x1.count(6))\n",
    "print(x1.index(7))"
   ]
  },
  {
   "cell_type": "code",
   "execution_count": 102,
   "metadata": {},
   "outputs": [
    {
     "name": "stdout",
     "output_type": "stream",
     "text": [
      "1\n",
      "9\n",
      "12\n",
      "8\n",
      "4\n",
      "2\n",
      "2\n"
     ]
    }
   ],
   "source": [
    "for i in x:\n",
    "    print(i)"
   ]
  },
  {
   "cell_type": "code",
   "execution_count": 75,
   "metadata": {},
   "outputs": [
    {
     "name": "stdout",
     "output_type": "stream",
     "text": [
      "31\n",
      "[(10, 20), (11, 10), (17, 91)]\n",
      "(13513, 13514, 13533, 13913, 13810)\n",
      "<class 'tuple'>\n"
     ]
    }
   ],
   "source": [
    "coordinate = (20, 31)\n",
    "print(coordinate[1])\n",
    "locations = [(10, 20), (11, 10), (17, 91)]#A list of tuples\n",
    "print(locations)\n",
    "student_id = (13513, 13514, 13533, 13913, 13810)\n",
    "print(student_id)\n",
    "type_name = type(student_id) #what is the type? Tupple\n",
    "print(type_name)"
   ]
  },
  {
   "cell_type": "code",
   "execution_count": 103,
   "metadata": {},
   "outputs": [
    {
     "name": "stdout",
     "output_type": "stream",
     "text": [
      "12\n",
      "apple\n",
      "20\n"
     ]
    }
   ],
   "source": [
    "# Tuples and assignment\n",
    "(a, b, c) = (12, \"apple\", 20)\n",
    "print(a)\n",
    "print(b)\n",
    "print(c)"
   ]
  },
  {
   "cell_type": "code",
   "execution_count": 105,
   "metadata": {},
   "outputs": [
    {
     "name": "stdout",
     "output_type": "stream",
     "text": [
      "True\n",
      "True\n"
     ]
    }
   ],
   "source": [
    "# Tuples are comparable\n",
    "print((1, 8, 10)<(2, 1, 0)) # It is as if it looks at the most significant digit (left most and then goes down if applicable)\n",
    "print((0, 2, 100000000)<(0, 5, 3))"
   ]
  },
  {
   "cell_type": "code",
   "execution_count": 106,
   "metadata": {},
   "outputs": [
    {
     "name": "stdout",
     "output_type": "stream",
     "text": [
      "dict_items([('a', 20), ('m', 12), ('d', 8), ('b', 1000)])\n"
     ]
    }
   ],
   "source": [
    "# Sorting \"Lists\" of Tuples\n",
    "d = {\"a\": 20, \"m\": 12, \"d\": 8, \"b\":1000}\n",
    "print(d.items())"
   ]
  },
  {
   "cell_type": "code",
   "execution_count": 108,
   "metadata": {},
   "outputs": [
    {
     "name": "stdout",
     "output_type": "stream",
     "text": [
      "[('a', 20), ('b', 1000), ('d', 8), ('m', 12)]\n"
     ]
    }
   ],
   "source": [
    "print(sorted(d.items())) # Sorted by key order"
   ]
  },
  {
   "cell_type": "code",
   "execution_count": 109,
   "metadata": {},
   "outputs": [
    {
     "name": "stdout",
     "output_type": "stream",
     "text": [
      "[(1000, 'b'), (20, 'a'), (12, 'm'), (8, 'd')]\n"
     ]
    }
   ],
   "source": [
    "# How can we sort by values instead of keys?\n",
    "tmp = list()\n",
    "for k,v in d.items():\n",
    "    tmp.append((v,k))# We create a tuple\n",
    "    \n",
    "tmp = sorted(tmp, reverse = True) # Reverse from big to small value\n",
    "print(tmp)\n",
    "    "
   ]
  },
  {
   "cell_type": "markdown",
   "metadata": {},
   "source": [
    "# Functions"
   ]
  },
  {
   "cell_type": "code",
   "execution_count": 79,
   "metadata": {},
   "outputs": [
    {
     "name": "stdout",
     "output_type": "stream",
     "text": [
      "Hi my lord!\n"
     ]
    }
   ],
   "source": [
    "def greeting():\n",
    "    print(\"Hi my lord!\")\n",
    "\n",
    "    \n",
    "#for calling the function, just call it!\n",
    "greeting()"
   ]
  },
  {
   "cell_type": "code",
   "execution_count": 83,
   "metadata": {},
   "outputs": [
    {
     "name": "stdout",
     "output_type": "stream",
     "text": [
      "8\n"
     ]
    }
   ],
   "source": [
    "def plusthree(number):\n",
    "    return number + 3\n",
    "\n",
    "print(plusthree(5))    "
   ]
  },
  {
   "cell_type": "code",
   "execution_count": 84,
   "metadata": {},
   "outputs": [
    {
     "name": "stdout",
     "output_type": "stream",
     "text": [
      "16\n"
     ]
    }
   ],
   "source": [
    "def power(num1, p):\n",
    "    result = pow(num1, p)\n",
    "    return result\n",
    "\n",
    "print(power(2,4))"
   ]
  },
  {
   "cell_type": "code",
   "execution_count": 199,
   "metadata": {},
   "outputs": [
    {
     "name": "stdout",
     "output_type": "stream",
     "text": [
      "0.9525741268224334\n",
      "0.5\n",
      "0.04742587317756678\n"
     ]
    }
   ],
   "source": [
    "#Let's define a Sigmoid function\n",
    "import math \n",
    "\n",
    "def sigm(x):\n",
    "    return 1/(1+(1/math.exp(x)))\n",
    "    \n",
    "print(sigm(3))\n",
    "print(sigm(0))\n",
    "print(sigm(-3))"
   ]
  },
  {
   "cell_type": "markdown",
   "metadata": {},
   "source": [
    "# if statement"
   ]
  },
  {
   "cell_type": "code",
   "execution_count": 89,
   "metadata": {},
   "outputs": [
    {
     "name": "stdout",
     "output_type": "stream",
     "text": [
      "10 is greater than 7\n"
     ]
    }
   ],
   "source": [
    "def comparison(num1, num2):\n",
    "    if num1 > num2:\n",
    "        print(str(num1) + \" is greater than \" + str(num2))\n",
    "    else:\n",
    "        print(str(num1) + \" is smaller than \" + str(num2))\n",
    "\n",
    "comparison(10, 7)"
   ]
  },
  {
   "cell_type": "code",
   "execution_count": 95,
   "metadata": {},
   "outputs": [
    {
     "name": "stdout",
     "output_type": "stream",
     "text": [
      "Hello sir!\n",
      "It is great to have you back in our hotel again.\n"
     ]
    }
   ],
   "source": [
    "isMale = True\n",
    "if isMale == True:   # use == for checking the equality. Reminder: != is checking non-equality.\n",
    "    print(\"Hello sir!\")\n",
    "    print(\"It is great to have you back in our hotel again.\")\n",
    "else:\n",
    "    print(\"Hello madam!\")\n",
    "    print(\"We hope you enjoy your stay in our hotel.\")"
   ]
  },
  {
   "cell_type": "code",
   "execution_count": 99,
   "metadata": {},
   "outputs": [
    {
     "name": "stdout",
     "output_type": "stream",
     "text": [
      "Do you want a cup of tea?\n"
     ]
    }
   ],
   "source": [
    "isRich = False\n",
    "isTall = False\n",
    "\n",
    "if isRich and isTall:\n",
    "    print(\"Do you want a cup of coffee?\")\n",
    "elif isRich and not(isTall):\n",
    "    print(\"Do you want a glass of water?\")\n",
    "elif isRich or not(isTall):\n",
    "    print(\"Do you want a cup of tea?\")\n",
    "else:\n",
    "    print(\"Do you want a glass of red wine?\")"
   ]
  },
  {
   "cell_type": "code",
   "execution_count": 103,
   "metadata": {},
   "outputs": [
    {
     "name": "stdout",
     "output_type": "stream",
     "text": [
      "Do you want a glass of red wine?\n"
     ]
    }
   ],
   "source": [
    "def yourdrink(isRich, isTall):\n",
    "    if isRich and isTall:\n",
    "        text = \"Do you want a cup of coffee?\"\n",
    "    elif isRich and not(isTall):\n",
    "        text = \"Do you want a glass of water?\"\n",
    "    elif isRich or not(isTall):\n",
    "        text = \"Do you want a cup of tea?\"\n",
    "    else:\n",
    "        text = \"Do you want a glass of red wine?\"\n",
    "    return text\n",
    "\n",
    "\n",
    "\n",
    "# let us test our built function\n",
    "a = False\n",
    "b = True\n",
    "print(yourdrink(a, b))"
   ]
  },
  {
   "cell_type": "code",
   "execution_count": 105,
   "metadata": {},
   "outputs": [
    {
     "name": "stdout",
     "output_type": "stream",
     "text": [
      "We are safe!\n",
      "8\n"
     ]
    }
   ],
   "source": [
    "grade_vec = (2, 3, 7, 6, 10)\n",
    "\n",
    "if grade_vec[0]!= grade_vec[3]: #!= shows not equal to\n",
    "    print(\"We are safe!\")\n",
    "    print(grade_vec[0] + grade_vec[3])\n",
    "elif grade_vec[0] <= grade_vec[4]:\n",
    "    print(\"Nice day!\")\n",
    "    print(grade_vec[0] + grade_vec[4])\n",
    "else:\n",
    "    print(\"I have to go!\")"
   ]
  },
  {
   "cell_type": "code",
   "execution_count": 113,
   "metadata": {},
   "outputs": [
    {
     "name": "stdout",
     "output_type": "stream",
     "text": [
      "This number is even.\n",
      "I do not care!\n"
     ]
    }
   ],
   "source": [
    "num = 18\n",
    "\n",
    "if num % 2 == 0:\n",
    "    print(\"This number is even.\")\n",
    "    if num <= 12:\n",
    "        print(\"This number is lower than 12.\")\n",
    "    else:\n",
    "        print(\"I do not care!\")\n",
    "else:\n",
    "    print(\"This number is odd.\")\n",
    "    if num >= 20:\n",
    "        print(\"This number is greater than 20.\")"
   ]
  },
  {
   "cell_type": "markdown",
   "metadata": {},
   "source": [
    "# Dictionary (key and value pairs)"
   ]
  },
  {
   "cell_type": "code",
   "execution_count": 52,
   "metadata": {},
   "outputs": [
    {
     "name": "stdout",
     "output_type": "stream",
     "text": [
      "{}\n"
     ]
    }
   ],
   "source": [
    "# An empty dictionary\n",
    "emptdic = {}\n",
    "print(emptdic)"
   ]
  },
  {
   "cell_type": "code",
   "execution_count": 48,
   "metadata": {},
   "outputs": [
    {
     "name": "stdout",
     "output_type": "stream",
     "text": [
      "{'ACCT 1610': 'Laws in Society and Business', 'BIEN 1010': 'Introduction to Biomedical Engineering', 'CENG 1500': 'A First Course on Materials Science and Applications', 'CENG 1600': 'Biotechnology and Its Business Opportunities', 'CENG 1700': 'Introduction to Environmental Engineering', 'CHEM 1002': 'Introduction to Chemistry of Cosmetics', 'COMP 2711': 'Discrete Mathematical Tools for Computer Science', 'ECON 2103': 'Principles of Microeconomics'}\n"
     ]
    }
   ],
   "source": [
    "#Based on HKUST courses\n",
    "#A dictionary with unique keys:values\n",
    "CourseName = {\n",
    "    \"ACCT 1610\" : \"Laws in Society and Business\",\n",
    "    \"BIEN 1010\" : \"Introduction to Biomedical Engineering\", \n",
    "    \"CENG 1500\" : \"A First Course on Materials Science and Applications\",\n",
    "    \"CENG 1600\" : \"Biotechnology and Its Business Opportunities\", \n",
    "    \"CENG 1700\" : \"Introduction to Environmental Engineering\",\n",
    "    \"CHEM 1002\" : \"Introduction to Chemistry of Cosmetics\",\n",
    "    \"COMP 2711\" : \"Discrete Mathematical Tools for Computer Science\",\n",
    "    \"ECON 2103\" : \"Principles of Microeconomics\"\n",
    "}\n",
    "print(CourseName)"
   ]
  },
  {
   "cell_type": "code",
   "execution_count": 78,
   "metadata": {},
   "outputs": [
    {
     "name": "stdout",
     "output_type": "stream",
     "text": [
      "{'money': 12, 'candy': 5, 'tissues': 7}\n"
     ]
    }
   ],
   "source": [
    "# Think of dictionaries as unsorted bag of values (We cannot predict the order)\n",
    "purse = dict() # This will create an empty dictionary named purse\n",
    "purse[\"money\"] = 12 #(key, vlaue) pair\n",
    "purse[\"candy\"] = 5\n",
    "purse[\"tissues\"] = 7\n",
    "print(purse)"
   ]
  },
  {
   "cell_type": "code",
   "execution_count": 79,
   "metadata": {},
   "outputs": [
    {
     "name": "stdout",
     "output_type": "stream",
     "text": [
      "Discrete Mathematical Tools for Computer Science\n",
      "5\n"
     ]
    }
   ],
   "source": [
    "print(CourseName[\"COMP 2711\"])\n",
    "print(purse[\"candy\"])"
   ]
  },
  {
   "cell_type": "code",
   "execution_count": 80,
   "metadata": {},
   "outputs": [
    {
     "name": "stdout",
     "output_type": "stream",
     "text": [
      "True\n",
      "False\n"
     ]
    }
   ],
   "source": [
    "print(\"candy\" in purse) #Checks if this key in my dictionary?\n",
    "print(\"coin\" in purse)"
   ]
  },
  {
   "cell_type": "code",
   "execution_count": 81,
   "metadata": {},
   "outputs": [
    {
     "name": "stdout",
     "output_type": "stream",
     "text": [
      "8\n"
     ]
    }
   ],
   "source": [
    "# Dictionary contents are mutable. We can change them\n",
    "purse[\"candy\"] = purse[\"candy\"] + 3\n",
    "print(purse[\"candy\"])"
   ]
  },
  {
   "cell_type": "code",
   "execution_count": 82,
   "metadata": {},
   "outputs": [
    {
     "name": "stdout",
     "output_type": "stream",
     "text": [
      "{'Reza': 2, 'Jim': 1, 'Gloria': 3, 'Ann': 4, 'Mary': 1}\n"
     ]
    }
   ],
   "source": [
    "counts = dict()\n",
    "names = [\"Reza\", \"Jim\", \"Gloria\", \"Ann\", \"Gloria\", \"Ann\", \"Ann\", \"Mary\", \"Ann\", \"Reza\", \"Gloria\"]\n",
    "\n",
    "for name in names:\n",
    "    if name not in counts:\n",
    "        counts[name] = 1\n",
    "    else:\n",
    "        counts[name] = counts[name] + 1\n",
    "print(counts)"
   ]
  },
  {
   "cell_type": "code",
   "execution_count": 84,
   "metadata": {},
   "outputs": [
    {
     "name": "stdout",
     "output_type": "stream",
     "text": [
      "{'money': 12, 'candy': 8, 'tissues': 7, 'bottle': 2}\n"
     ]
    }
   ],
   "source": [
    "# Get function\n",
    "purse[\"bottle\"] = purse.get(\"bottle\", 0) + 1 # If key bottle does not exist, create it and set the default value to 1 # It also helps to avoid tracceback error\n",
    "print(purse)"
   ]
  },
  {
   "cell_type": "code",
   "execution_count": 118,
   "metadata": {},
   "outputs": [
    {
     "name": "stdout",
     "output_type": "stream",
     "text": [
      "Discrete Mathematical Tools for Computer Science\n"
     ]
    }
   ],
   "source": [
    "print(CourseName.get(\"COMP 2711\")) #The advantage of get is that you can a set a default value if key not found"
   ]
  },
  {
   "cell_type": "code",
   "execution_count": 121,
   "metadata": {},
   "outputs": [
    {
     "name": "stdout",
     "output_type": "stream",
     "text": [
      "None\n",
      "Reza! The course is not here.\n"
     ]
    }
   ],
   "source": [
    "print(CourseName.get(\"COMP 2712\"))\n",
    "print(CourseName.get(\"COMP 2712\", \"Reza! The course is not here.\"))"
   ]
  },
  {
   "cell_type": "code",
   "execution_count": 126,
   "metadata": {},
   "outputs": [
    {
     "name": "stdout",
     "output_type": "stream",
     "text": [
      "Introduction to Environmental Engineering\n"
     ]
    }
   ],
   "source": [
    "#Keys can be numbers as well as long as they are unique\n",
    "CourseName2 = {\n",
    "    1610 : \"Laws in Society and Business\",\n",
    "    1010 : \"Introduction to Biomedical Engineering\", \n",
    "    1500 : \"A First Course on Materials Science and Applications\",\n",
    "    1600 : \"Biotechnology and Its Business Opportunities\", \n",
    "    1700 : \"Introduction to Environmental Engineering\",\n",
    "    1002 : \"Introduction to Chemistry of Cosmetics\",\n",
    "    2711 : \"Discrete Mathematical Tools for Computer Science\",\n",
    "    2103 : \"Principles of Microeconomics\"\n",
    "}\n",
    "print(CourseName2.get(1700))"
   ]
  },
  {
   "cell_type": "code",
   "execution_count": 128,
   "metadata": {},
   "outputs": [
    {
     "name": "stdout",
     "output_type": "stream",
     "text": [
      "{1: 25, 2: 16, 3: 90, 4: 100}\n"
     ]
    }
   ],
   "source": [
    "RandomDic = {\n",
    "    1 : 25,\n",
    "    2 : 16,\n",
    "    3 : 90,\n",
    "    4 : 100\n",
    "}\n",
    "print(RandomDic)"
   ]
  },
  {
   "cell_type": "code",
   "execution_count": 129,
   "metadata": {},
   "outputs": [
    {
     "name": "stdout",
     "output_type": "stream",
     "text": [
      "90\n"
     ]
    }
   ],
   "source": [
    "print(RandomDic.get(3))"
   ]
  },
  {
   "cell_type": "code",
   "execution_count": 87,
   "metadata": {},
   "outputs": [
    {
     "name": "stdout",
     "output_type": "stream",
     "text": [
      "1 Wait, do you see my heart on my sleeve?\n",
      "2 It's been there for days on end and\n",
      "3 It's been waiting for you to open up\n",
      "4 Yours too baby, come on now\n",
      "5 I'm trying to tell you just how\n",
      "6 I'd like to hear the words roll out of your mouth finally\n",
      "7 Say that it's always been me\n",
      "8 Adele song\n"
     ]
    }
   ],
   "source": [
    "A = {\n",
    "    1: \"Wait, do you see my heart on my sleeve?\",\n",
    "    2: \"It's been there for days on end and\",\n",
    "    3: \"It's been waiting for you to open up\",\n",
    "    4: \"Yours too baby, come on now\",\n",
    "    5: \"I'm trying to tell you just how\",\n",
    "    6: \"I'd like to hear the words roll out of your mouth finally\",\n",
    "    7: \"Say that it's always been me\",\n",
    "    8: \"Adele song\"\n",
    "}\n",
    "\n",
    "for key in A:\n",
    "    print(key, A[key])"
   ]
  },
  {
   "cell_type": "markdown",
   "metadata": {},
   "source": [
    "# While Loops"
   ]
  },
  {
   "cell_type": "code",
   "execution_count": 133,
   "metadata": {},
   "outputs": [
    {
     "name": "stdout",
     "output_type": "stream",
     "text": [
      "1\n",
      "2\n",
      "3\n",
      "4\n",
      "5\n",
      "Done with the loop.\n"
     ]
    }
   ],
   "source": [
    "i = 1\n",
    "while i <= 5:\n",
    "    print(i)\n",
    "    i += 1 # same as i = i + 1\n",
    "print(\"Done with the loop.\")"
   ]
  },
  {
   "cell_type": "code",
   "execution_count": 146,
   "metadata": {},
   "outputs": [
    {
     "name": "stdout",
     "output_type": "stream",
     "text": [
      "[1, 2, 3, 4, 5, 6, 7, 8, 9, 10] \n",
      "\n",
      "[2, 4, 6, 8, 10, 12, 14, 16, 18, 20] \n",
      "\n",
      "[3, 6, 9, 12, 15, 18, 21, 24, 27, 30] \n",
      "\n",
      "[4, 8, 12, 16, 20, 24, 28, 32, 36, 40] \n",
      "\n",
      "[5, 10, 15, 20, 25, 30, 35, 40, 45, 50] \n",
      "\n",
      "[6, 12, 18, 24, 30, 36, 42, 48, 54, 60] \n",
      "\n",
      "[7, 14, 21, 28, 35, 42, 49, 56, 63, 70] \n",
      "\n",
      "[8, 16, 24, 32, 40, 48, 56, 64, 72, 80] \n",
      "\n",
      "[9, 18, 27, 36, 45, 54, 63, 72, 81, 90] \n",
      "\n",
      "[10, 20, 30, 40, 50, 60, 70, 80, 90, 100] \n",
      "\n"
     ]
    }
   ],
   "source": [
    "# A simple multiplicaiton table\n",
    "i = 1\n",
    "j = 1\n",
    "result = []\n",
    "while i <= 10:\n",
    "    while j <= 10:\n",
    "        result.append(i*j)\n",
    "        j = j + 1\n",
    "    print(result, \"\\n\")\n",
    "    i += 1\n",
    "    j = 1\n",
    "    result.clear()\n",
    "        "
   ]
  },
  {
   "cell_type": "markdown",
   "metadata": {},
   "source": [
    "# For Loop"
   ]
  },
  {
   "cell_type": "code",
   "execution_count": 147,
   "metadata": {},
   "outputs": [
    {
     "name": "stdout",
     "output_type": "stream",
     "text": [
      "H\n",
      "e\n",
      "l\n",
      "l\n",
      "o\n",
      " \n",
      "W\n",
      "o\n",
      "r\n",
      "l\n",
      "d\n",
      "!\n"
     ]
    }
   ],
   "source": [
    "for letter in \"Hello World!\": # We define a variable (here letter) and that changes in every itteration\n",
    "    print(letter)"
   ]
  },
  {
   "cell_type": "code",
   "execution_count": 148,
   "metadata": {},
   "outputs": [
    {
     "name": "stdout",
     "output_type": "stream",
     "text": [
      "Tommy\n",
      "Zhenhui\n",
      "Meng\n",
      "Zack\n",
      "Ehsan\n",
      "Young\n"
     ]
    }
   ],
   "source": [
    "classmates = [\"Tommy\", \"Zhenhui\", \"Meng\", \"Zack\", \"Ehsan\", \"Young\"]\n",
    "for classmate in classmates:\n",
    "    print(classmate)"
   ]
  },
  {
   "cell_type": "code",
   "execution_count": 149,
   "metadata": {},
   "outputs": [
    {
     "name": "stdout",
     "output_type": "stream",
     "text": [
      "0\n",
      "1\n",
      "2\n",
      "3\n",
      "4\n",
      "5\n",
      "6\n",
      "7\n"
     ]
    }
   ],
   "source": [
    "for index in range(8): #not including 8\n",
    "    print(index)"
   ]
  },
  {
   "cell_type": "code",
   "execution_count": 150,
   "metadata": {},
   "outputs": [
    {
     "name": "stdout",
     "output_type": "stream",
     "text": [
      "2\n",
      "3\n",
      "4\n",
      "5\n",
      "6\n",
      "7\n"
     ]
    }
   ],
   "source": [
    "for index in range(2, 8):\n",
    "    print(index)"
   ]
  },
  {
   "cell_type": "code",
   "execution_count": 151,
   "metadata": {},
   "outputs": [
    {
     "name": "stdout",
     "output_type": "stream",
     "text": [
      "Tommy\n",
      "Zhenhui\n",
      "Meng\n",
      "Zack\n",
      "Ehsan\n",
      "Young\n"
     ]
    }
   ],
   "source": [
    "classmates = [\"Tommy\", \"Zhenhui\", \"Meng\", \"Zack\", \"Ehsan\", \"Young\"]\n",
    "for index in range(len(classmates)):\n",
    "    print(classmates[index])"
   ]
  },
  {
   "cell_type": "code",
   "execution_count": 152,
   "metadata": {},
   "outputs": [
    {
     "name": "stdout",
     "output_type": "stream",
     "text": [
      "This is the first iteration.\n",
      "This is the second iteration.\n",
      "More than two iterations.\n",
      "More than two iterations.\n",
      "More than two iterations.\n"
     ]
    }
   ],
   "source": [
    "for index in range(5):\n",
    "    if index == 0:\n",
    "        print(\"This is the first iteration.\")\n",
    "    elif index == 1:\n",
    "        print(\"This is the second iteration.\")\n",
    "    else:\n",
    "        print(\"More than two iterations.\")"
   ]
  },
  {
   "cell_type": "code",
   "execution_count": 17,
   "metadata": {},
   "outputs": [
    {
     "data": {
      "text/plain": [
       "81"
      ]
     },
     "execution_count": 17,
     "metadata": {},
     "output_type": "execute_result"
    }
   ],
   "source": [
    "def powerfunc(num1, num2):\n",
    "    result = 1\n",
    "    for index in range(num2):\n",
    "        result = num1 * result\n",
    "    return result\n",
    "\n",
    "powerfunc(3, 4)"
   ]
  },
  {
   "cell_type": "code",
   "execution_count": 28,
   "metadata": {},
   "outputs": [
    {
     "name": "stdout",
     "output_type": "stream",
     "text": [
      "I coul* not un*er*t*n* her l*ngu*ge.\n",
      "*o you know where to buy *ome w*ter?\n"
     ]
    }
   ],
   "source": [
    "def me_coder(phrase):\n",
    "    finalphrase = \"\"\n",
    "    for letter in phrase:\n",
    "        if letter in \"asdfASDF\":\n",
    "            finalphrase = finalphrase + \"*\"\n",
    "        else:\n",
    "            finalphrase = finalphrase + letter\n",
    "    return finalphrase\n",
    "            \n",
    "print(me_coder(\"I could not understand her language.\"))\n",
    "print(me_coder(\"Do you know where to buy some water?\"))"
   ]
  },
  {
   "cell_type": "markdown",
   "metadata": {},
   "source": [
    "# 2D Lists and Nested Loops (similar to matrix!)"
   ]
  },
  {
   "cell_type": "code",
   "execution_count": 18,
   "metadata": {},
   "outputs": [
    {
     "name": "stdout",
     "output_type": "stream",
     "text": [
      "1\n"
     ]
    }
   ],
   "source": [
    "#rows and columns are exactly the same as what we knew before\n",
    "matrix = [\n",
    "    [1, 1, 1, 0, 0],\n",
    "    [1, 0, 1, 1, 0],\n",
    "    [0, 1, 0, 1, 0],\n",
    "    [0, 0, 0, 1, 1]\n",
    "]\n",
    "\n",
    "print(matrix[0][1])"
   ]
  },
  {
   "cell_type": "code",
   "execution_count": 20,
   "metadata": {},
   "outputs": [
    {
     "name": "stdout",
     "output_type": "stream",
     "text": [
      "147\n",
      "[[109, 119, 111, 100, 801], [800, 452, 128, 290, 219], [741, 852, 963, 147, 159], [357, 267, 313, 218, 401]]\n"
     ]
    }
   ],
   "source": [
    "matrix2 = [\n",
    "    [109, 119, 111, 100, 801],\n",
    "    [800, 452, 128, 290, 219],\n",
    "    [741, 852, 963, 147, 159],\n",
    "    [357, 267, 313, 218, 401]\n",
    "]\n",
    "print(matrix2[2][3])\n",
    "print(matrix2)"
   ]
  },
  {
   "cell_type": "code",
   "execution_count": 23,
   "metadata": {},
   "outputs": [
    {
     "name": "stdout",
     "output_type": "stream",
     "text": [
      "hi\n"
     ]
    }
   ],
   "source": [
    "grid1 = [\n",
    "    [109, 119, 111, 100, 801],\n",
    "    [800, 452, 128, 290, 219],\n",
    "    [128, 214, \"hi\"],\n",
    "    [357, 267, 313, 218, 401]\n",
    "]\n",
    "print(grid1[2][2])\n",
    "# print(grid1[2][3])#This line will give an error since we do not have such element"
   ]
  },
  {
   "cell_type": "code",
   "execution_count": 24,
   "metadata": {},
   "outputs": [
    {
     "name": "stdout",
     "output_type": "stream",
     "text": [
      "[109, 119, 111, 100, 801]\n",
      "[800, 452, 128, 290, 219]\n",
      "[741, 852, 963, 147, 159]\n",
      "[357, 267, 313, 218, 401]\n"
     ]
    }
   ],
   "source": [
    "matrix2 = [\n",
    "    [109, 119, 111, 100, 801],\n",
    "    [800, 452, 128, 290, 219],\n",
    "    [741, 852, 963, 147, 159],\n",
    "    [357, 267, 313, 218, 401]\n",
    "]\n",
    "\n",
    "for row in matrix2:\n",
    "    print(row)"
   ]
  },
  {
   "cell_type": "code",
   "execution_count": 25,
   "metadata": {},
   "outputs": [
    {
     "name": "stdout",
     "output_type": "stream",
     "text": [
      "109\n",
      "119\n",
      "111\n",
      "100\n",
      "801\n",
      "800\n",
      "452\n",
      "128\n",
      "290\n",
      "219\n",
      "741\n",
      "852\n",
      "963\n",
      "147\n",
      "159\n",
      "357\n",
      "267\n",
      "313\n",
      "218\n",
      "401\n"
     ]
    }
   ],
   "source": [
    "matrix2 = [\n",
    "    [109, 119, 111, 100, 801],\n",
    "    [800, 452, 128, 290, 219],\n",
    "    [741, 852, 963, 147, 159],\n",
    "    [357, 267, 313, 218, 401]\n",
    "]\n",
    "\n",
    "for row in matrix2:\n",
    "    for col in row:\n",
    "        print(col)"
   ]
  },
  {
   "cell_type": "markdown",
   "metadata": {},
   "source": [
    "# Try Except Block (for handling errors)"
   ]
  },
  {
   "cell_type": "code",
   "execution_count": 35,
   "metadata": {},
   "outputs": [
    {
     "name": "stdout",
     "output_type": "stream",
     "text": [
      "This is an odd number.\n",
      "Something went wrong!\n"
     ]
    }
   ],
   "source": [
    "def oddfinder(num):\n",
    "    if num % 2 != 0:\n",
    "        txt = \"This is an odd number.\"\n",
    "    else:\n",
    "        txt = \"This is an even number.\"\n",
    "    return txt\n",
    "\n",
    "try:\n",
    "    print(oddfinder(15))\n",
    "    print(oddfinder(asd)) #wrong input\n",
    "except: #This type of except is too broad\n",
    "    print(\"Something went wrong!\")"
   ]
  },
  {
   "cell_type": "code",
   "execution_count": 37,
   "metadata": {},
   "outputs": [
    {
     "name": "stdout",
     "output_type": "stream",
     "text": [
      "This is an odd number.\n",
      "name 'asd' is not defined\n"
     ]
    }
   ],
   "source": [
    "def oddfinder(num):\n",
    "    if num % 2 != 0:\n",
    "        txt = \"This is an odd number.\"\n",
    "    else:\n",
    "        txt = \"This is an even number.\"\n",
    "    return txt\n",
    "\n",
    "try:\n",
    "    print(oddfinder(15))\n",
    "    print(oddfinder(asd)) #wrong input\n",
    "except NameError as err: #use tab to see a complete list of except errors #we define err as a variable for error message\n",
    "    print(err)"
   ]
  },
  {
   "cell_type": "markdown",
   "metadata": {},
   "source": [
    "# Reading Files"
   ]
  },
  {
   "cell_type": "code",
   "execution_count": 260,
   "metadata": {},
   "outputs": [
    {
     "name": "stdout",
     "output_type": "stream",
     "text": [
      "Josh - CSE department\n",
      "\n",
      "Ann - Civil department\n",
      "\n",
      "Tom - CHEM department\n",
      "\n",
      "Ahmad - BIO department\n",
      "\n",
      "Shina - ECE department\n",
      "\n",
      "Rosa - CSE department\n",
      "\n",
      "Jimmy - MATH department\n",
      "\n",
      "Hamed - MATH department\n",
      "\n",
      "Murat - MATH department\n",
      "\n",
      "Ali - MATH department\n",
      "\n",
      "We have 10 lines.\n"
     ]
    }
   ],
   "source": [
    "# A file handle is open for read can be treated as a sequence of strings where each line in the file is a string in the sequence\n",
    "handle = open(\"Dummy.txt\") # The default mode for opening files is read-only (r)\n",
    "\n",
    "counter = 0\n",
    "for lines in handle:\n",
    "    counter += 1\n",
    "    print(lines) # This is very simple and we can easily access the data inside our file\n",
    "print(\"\\nWe have\", counter, \"lines.\")"
   ]
  },
  {
   "cell_type": "code",
   "execution_count": 265,
   "metadata": {},
   "outputs": [
    {
     "name": "stdout",
     "output_type": "stream",
     "text": [
      "True\n",
      "Josh - CSE department\n",
      "Ann - Civil department\n",
      "Tom - CHEM department\n",
      "Ahmad - BIO department\n",
      "Shina - ECE department\n",
      "Rosa - CSE department\n",
      "Jimmy - MATH department\n",
      "Hamed - MATH department\n",
      "Murat - MATH department\n",
      "Ali - MATH department\n",
      "228\n",
      "Josh - C\n"
     ]
    }
   ],
   "source": [
    "\"\"\"\n",
    "open(\"Dummy.txt\", \"r\") # Opens the file in read-only mode. It is also the default mode for open()\n",
    "open(\"Dummy.txt\", \"w\") # Opens in write-only mode. The pointer is placed at the beginning of the file and this will overwrite any existing file with the same name. It will create a new file if one with the same name doesn't exist.\n",
    "open(\"Dummy.txt\", \"a\") # Opens a file for appending new information to it. The pointer is placed at the end of the file. A new file is created if one with the same name doesn't exist.\n",
    "open(\"Dummy.txt\", \"r+\") # Opens a file for reading and writing, placing the pointer at the beginning of the file.\n",
    "\n",
    "It is a good practice to close the file at the end\n",
    "\"\"\"\n",
    "stud_major = open(\"Dummy.txt\", \"r\")\n",
    "\n",
    "\n",
    "\n",
    "# We can read the whole file (newlines and all) into a single string\n",
    "print(stud_major.readable())#This checks if the file is readable\n",
    "inp = stud_major.read()\n",
    "print(inp)# This will spit out all the information that exist in the file\n",
    "\n",
    "print(len(inp))\n",
    "print(inp[:8])#First eight characters\n",
    "\n",
    "\n",
    "stud_major.close()#This closes the file "
   ]
  },
  {
   "cell_type": "code",
   "execution_count": 16,
   "metadata": {
    "scrolled": true
   },
   "outputs": [
    {
     "name": "stdout",
     "output_type": "stream",
     "text": [
      "19\n",
      "36\n",
      "6\n",
      "20\n",
      "16\n",
      "-1\n"
     ]
    }
   ],
   "source": [
    "handle2 = open(\"Dummy2.txt\")\n",
    "\n",
    "for line in handle2:\n",
    "    ppos = line.find(\"math\") #finds the first math in each line\n",
    "    print(ppos)\n",
    "    \n",
    "handle2.close()"
   ]
  },
  {
   "cell_type": "code",
   "execution_count": 18,
   "metadata": {},
   "outputs": [
    {
     "name": "stdout",
     "output_type": "stream",
     "text": [
      "I think we can use math to improve life.\n",
      "I know learning math is difficult, but learning math is also sweet.\n",
      "I hope tomorrow is sunny!\n"
     ]
    }
   ],
   "source": [
    "handle2 = open(\"Dummy2.txt\")\n",
    "\n",
    "for line in handle2:\n",
    "    if line.startswith(\"I\"):\n",
    "        line = line.rstrip() # Because print also adds another \\n, this helps to remove the ones from the text\n",
    "        print(line)\n",
    "        \n",
    "handle2.close()"
   ]
  },
  {
   "cell_type": "code",
   "execution_count": 22,
   "metadata": {},
   "outputs": [
    {
     "name": "stdout",
     "output_type": "stream",
     "text": [
      "I think we can use math to improve life.\n",
      "I know learning math is difficult, but learning math is also sweet.\n",
      "I hope tomorrow is sunny!\n"
     ]
    }
   ],
   "source": [
    "handle2 = open(\"Dummy2.txt\")\n",
    "\n",
    "for line in handle2:\n",
    "    if not line.startswith(\"I\"):\n",
    "        continue\n",
    "       \n",
    "    line = line.rstrip()\n",
    "    print(line)\n",
    "    \n",
    "handle2.close()"
   ]
  },
  {
   "cell_type": "code",
   "execution_count": 24,
   "metadata": {},
   "outputs": [
    {
     "name": "stdout",
     "output_type": "stream",
     "text": [
      "I think we can use math to improve life.\n",
      "From tomorrow, I will practice more math.\n",
      "Every math class has something fun to teach.\n",
      "We have a very good math teacher.\n",
      "I know learning math is difficult, but learning math is also sweet.\n"
     ]
    }
   ],
   "source": [
    "handle2 = open(\"Dummy2.txt\")\n",
    "\n",
    "for line in handle2:\n",
    "    if not \"math\" in line:\n",
    "        continue\n",
    "    line = line.rstrip()\n",
    "    print(line)\n",
    "    \n",
    "handle2.close()"
   ]
  },
  {
   "cell_type": "code",
   "execution_count": 6,
   "metadata": {},
   "outputs": [
    {
     "name": "stdout",
     "output_type": "stream",
     "text": [
      "True\n",
      "Josh - CSE department\n",
      "\n",
      "Ann - Civil department\n",
      "\n"
     ]
    }
   ],
   "source": [
    "stud_major = open(\"Dummy.txt\", \"r\")\n",
    "\n",
    "print(stud_major.readable())#This checks if the file is readable\n",
    "print(stud_major.readline())# This reads the first line and puts cursor in the beginning of the second line\n",
    "print(stud_major.readline())# This reads the second line\n",
    "\n",
    "stud_major.close()#This closes the file "
   ]
  },
  {
   "cell_type": "code",
   "execution_count": 52,
   "metadata": {},
   "outputs": [
    {
     "name": "stdout",
     "output_type": "stream",
     "text": [
      "True\n",
      "Tom - CHEM department\n",
      "\n"
     ]
    }
   ],
   "source": [
    "stud_major = open(\"Dummy.txt\", \"r\")\n",
    "\n",
    "print(stud_major.readable())#This checks if the file is readable\n",
    "# print(stud_major.readlines())#reads all lines at put them into a list\n",
    "print(stud_major.readlines()[2])#you can access like lists\n",
    "\n",
    "stud_major.close()#This closes the file "
   ]
  },
  {
   "cell_type": "code",
   "execution_count": 53,
   "metadata": {},
   "outputs": [
    {
     "name": "stdout",
     "output_type": "stream",
     "text": [
      "Josh - CSE department\n",
      "\n",
      "Ann - Civil department\n",
      "\n",
      "Tom - CHEM department\n",
      "\n",
      "Ahmad - BIO department\n",
      "\n",
      "Shina - ECE department\n",
      "\n",
      "Rosa - CSE department\n",
      "\n"
     ]
    }
   ],
   "source": [
    "stud_major = open(\"Dummy.txt\", \"r\")\n",
    "\n",
    "for students in stud_major.readlines():\n",
    "    print(students)\n",
    "\n",
    "stud_major.close()#This closes the file "
   ]
  },
  {
   "cell_type": "code",
   "execution_count": 91,
   "metadata": {},
   "outputs": [
    {
     "name": "stdout",
     "output_type": "stream",
     "text": [
      "{'I': 4, 'think': 1, 'we': 1, 'can': 1, 'use': 1, 'math': 5, 'to': 2, 'improve': 1, 'life.': 1, 'From': 1, 'tomorrow,': 1, 'will': 1, 'practice': 1, 'more': 1, 'math.': 1, 'Every': 1, 'class': 1, 'has': 1, 'something': 1, 'fun': 1, 'teach.': 1, 'We': 1, 'have': 1, 'a': 1, 'very': 1, 'good': 1, 'teacher.': 1, 'know': 1, 'learning': 2, 'is': 3, 'difficult,': 1, 'but': 1, 'also': 1, 'sweet.': 1, 'hope': 1, 'tomorrow': 1, 'sunny!': 1}\n"
     ]
    }
   ],
   "source": [
    "counts = dict()\n",
    "\n",
    "handle = open (\"Dummy2.txt\")\n",
    "\n",
    "for line in handle:\n",
    "    words = line.split()\n",
    "    for word in words:\n",
    "        counts[word] = counts.get(word,0)+1\n",
    "\n",
    "print(counts)"
   ]
  },
  {
   "cell_type": "code",
   "execution_count": 92,
   "metadata": {},
   "outputs": [
    {
     "name": "stdout",
     "output_type": "stream",
     "text": [
      "['I', 'think', 'we', 'can', 'use', 'math', 'to', 'improve', 'life.', 'From', 'tomorrow,', 'will', 'practice', 'more', 'math.', 'Every', 'class', 'has', 'something', 'fun', 'teach.', 'We', 'have', 'a', 'very', 'good', 'teacher.', 'know', 'learning', 'is', 'difficult,', 'but', 'also', 'sweet.', 'hope', 'tomorrow', 'sunny!']\n"
     ]
    }
   ],
   "source": [
    "print(list(counts))"
   ]
  },
  {
   "cell_type": "code",
   "execution_count": 93,
   "metadata": {},
   "outputs": [
    {
     "name": "stdout",
     "output_type": "stream",
     "text": [
      "dict_keys(['I', 'think', 'we', 'can', 'use', 'math', 'to', 'improve', 'life.', 'From', 'tomorrow,', 'will', 'practice', 'more', 'math.', 'Every', 'class', 'has', 'something', 'fun', 'teach.', 'We', 'have', 'a', 'very', 'good', 'teacher.', 'know', 'learning', 'is', 'difficult,', 'but', 'also', 'sweet.', 'hope', 'tomorrow', 'sunny!'])\n"
     ]
    }
   ],
   "source": [
    "print(counts.keys())"
   ]
  },
  {
   "cell_type": "code",
   "execution_count": 94,
   "metadata": {},
   "outputs": [
    {
     "name": "stdout",
     "output_type": "stream",
     "text": [
      "dict_values([4, 1, 1, 1, 1, 5, 2, 1, 1, 1, 1, 1, 1, 1, 1, 1, 1, 1, 1, 1, 1, 1, 1, 1, 1, 1, 1, 1, 2, 3, 1, 1, 1, 1, 1, 1, 1])\n"
     ]
    }
   ],
   "source": [
    "print(counts.values())"
   ]
  },
  {
   "cell_type": "code",
   "execution_count": 95,
   "metadata": {},
   "outputs": [
    {
     "name": "stdout",
     "output_type": "stream",
     "text": [
      "dict_items([('I', 4), ('think', 1), ('we', 1), ('can', 1), ('use', 1), ('math', 5), ('to', 2), ('improve', 1), ('life.', 1), ('From', 1), ('tomorrow,', 1), ('will', 1), ('practice', 1), ('more', 1), ('math.', 1), ('Every', 1), ('class', 1), ('has', 1), ('something', 1), ('fun', 1), ('teach.', 1), ('We', 1), ('have', 1), ('a', 1), ('very', 1), ('good', 1), ('teacher.', 1), ('know', 1), ('learning', 2), ('is', 3), ('difficult,', 1), ('but', 1), ('also', 1), ('sweet.', 1), ('hope', 1), ('tomorrow', 1), ('sunny!', 1)])\n"
     ]
    }
   ],
   "source": [
    "print(counts.items()) #produces tuple format"
   ]
  },
  {
   "cell_type": "code",
   "execution_count": 97,
   "metadata": {},
   "outputs": [
    {
     "name": "stdout",
     "output_type": "stream",
     "text": [
      "math = 5\n"
     ]
    }
   ],
   "source": [
    "bigK = None\n",
    "bigV = None\n",
    "\n",
    "for k,v in counts.items(): # k (key) is the first iteration value, and v (value) is the second iteration value. They grow in parallel and make life more convenient to go through a dict\n",
    "    if bigV is None or bigV<v:\n",
    "        bigK = k\n",
    "        bigV = v\n",
    "print(bigK, \"=\", bigV) #Most repeated value"
   ]
  },
  {
   "cell_type": "markdown",
   "metadata": {},
   "source": [
    "# Writing to Files"
   ]
  },
  {
   "cell_type": "code",
   "execution_count": 2,
   "metadata": {},
   "outputs": [],
   "source": [
    "student_major = open(\"Dummy.txt\", \"a\") #append something at the end of the file \n",
    "student_major.write(\"\\nMurat - MATH department\")\n",
    "student_major.close()#Now it is written. You can go and check!"
   ]
  },
  {
   "cell_type": "markdown",
   "metadata": {},
   "source": [
    "# Regular Expressions"
   ]
  },
  {
   "cell_type": "code",
   "execution_count": 168,
   "metadata": {},
   "outputs": [
    {
     "name": "stdout",
     "output_type": "stream",
     "text": [
      "I think we can use math to improve life.\n",
      "\n",
      "From tomorrow, I will practice more math.\n",
      "\n",
      "I know learning math is difficult, but learning math is also sweet.\n",
      "\n",
      "I hope tomorrow is sunny!\n"
     ]
    }
   ],
   "source": [
    "#we need to import the library first\n",
    "import re\n",
    "\n",
    "handle = open(\"Dummy2.txt\")\n",
    "\n",
    "for line in handle:\n",
    "    if re.search(\"I\", line): # This line searches each line\n",
    "        print(line)"
   ]
  },
  {
   "cell_type": "code",
   "execution_count": 173,
   "metadata": {},
   "outputs": [
    {
     "name": "stdout",
     "output_type": "stream",
     "text": [
      "I think we can use math to improve life.\n",
      "\n",
      "I know learning math is difficult, but learning math is also sweet.\n",
      "\n",
      "I hope tomorrow is sunny!\n"
     ]
    }
   ],
   "source": [
    "handle = open(\"Dummy2.txt\")\n",
    "\n",
    "for line in handle:\n",
    "    if re.search(\"^I\", line): # ^ refers to start of line\n",
    "        print(line)"
   ]
  },
  {
   "cell_type": "code",
   "execution_count": 187,
   "metadata": {},
   "outputs": [
    {
     "name": "stdout",
     "output_type": "stream",
     "text": [
      "Knowledgeable\n",
      "\n",
      "Knowledgeable\n",
      "\n",
      "Passing Knowledge\n",
      "\n",
      "Expert\n",
      "\n"
     ]
    }
   ],
   "source": [
    "# The dot character matches any character\n",
    "# If you add an asterisk character, the character is any number of times\n",
    "# e.g. ---> ^X.*:  I am looking for strings with X at the beginning, followed by any number of characters and ending with colon :\n",
    "\n",
    "# We want to extract the expertise of our reviewers\n",
    "handle = open(\"Dummy3.txt\") \n",
    "\n",
    "w = 0\n",
    "for line in handle:\n",
    "    if re.search(\"^Exp.*ise\", line):\n",
    "        w = 1\n",
    "        continue\n",
    "        \n",
    "    if w == 1:\n",
    "        print(line)\n",
    "        w = 0"
   ]
  },
  {
   "cell_type": "code",
   "execution_count": 188,
   "metadata": {},
   "outputs": [
    {
     "name": "stdout",
     "output_type": "stream",
     "text": [
      "2\n",
      "1\n",
      "3\n"
     ]
    }
   ],
   "source": [
    "# e.g. ---> ^X\\S+: --> meaning: find strings that start with X followed by non-white-spacecharacter (\\S), one or more time(+), followed by a colon (:)\n",
    "#\\s matches whitespace character, \\S matches any non-whitespace character\n",
    "handle = open(\"Dummy3.txt\") \n",
    "\n",
    "# We want to find the order of reviewer comments\n",
    "\n",
    "W = list()\n",
    "for line in handle: \n",
    "    if re.search(\"^Rev.*r\\s\", line):\n",
    "        W = line.split()\n",
    "        print(W[1])"
   ]
  },
  {
   "cell_type": "code",
   "execution_count": 205,
   "metadata": {},
   "outputs": [
    {
     "name": "stdout",
     "output_type": "stream",
     "text": [
      "['2', '2', '1']\n",
      "['R2', 'R2', 'R1']\n"
     ]
    }
   ],
   "source": [
    "# Let's learn about square expression []\n",
    "#[0-9] means a digit\n",
    "#[0-9]+ means one or more digits\n",
    "#[REZA] means one of these characters\n",
    "#[OAEUI] means one these vowels\n",
    "#[OAEUI]+ means one or more of these vowels\n",
    "\n",
    "# re.findall() returns list of zero or more substrings that match the regular expression\n",
    "\n",
    "A = \"ll reviewers found the paper is well-written. R2 highlighted that from R2’s perspective the paper is also sufficiently grounded in the related work. R1 noted that the offered the supplementary materials was very helpful.\"\n",
    "print(re.findall(\"[0-9]+\", A))\n",
    "print(re.findall(\"R[0-9]\", A))"
   ]
  },
  {
   "cell_type": "code",
   "execution_count": 210,
   "metadata": {},
   "outputs": [
    {
     "name": "stdout",
     "output_type": "stream",
     "text": [
      "<re.Match object; span=(0, 34), match='Hello! I am Reza! I am very happy!'>\n",
      "<re.Match object; span=(0, 6), match='Hello!'>\n"
     ]
    }
   ],
   "source": [
    "# Non-greedy matching ---> We can use ? sign\n",
    "# Both + and * are greedy and like to capture the biggest chunk that match our pattern\n",
    "\n",
    "B = \"Hello! I am Reza! I am very happy!\"\n",
    "print(re.search(\"^H.*!\", B)) # We see that this is vert greedy and captures the biggest chunk\n",
    "\n",
    "# ? says don't be too much gready\n",
    "print(re.search(\"^H.*?!\", B))"
   ]
  },
  {
   "cell_type": "code",
   "execution_count": 220,
   "metadata": {},
   "outputs": [
    {
     "name": "stdout",
     "output_type": "stream",
     "text": [
      "['R1@yahoo.com']\n",
      "['From R1@yahoo.com']\n",
      "['R1@yahoo.com']\n"
     ]
    }
   ],
   "source": [
    "C = \"From R1@yahoo.com SAT 2017 12:30:17 Office PC\"\n",
    "print(re.findall(\"\\S+@\\S+\", C))\n",
    "\n",
    "#Fine tuning string extraction\n",
    "#Parantheses () are not part of the match, but they tell where to start and stop what string to extract\n",
    "print(re.findall(\"^From \\S+@\\S+\", C))\n",
    "print(re.findall(\"^From (\\S+@\\S+)\", C))"
   ]
  },
  {
   "cell_type": "code",
   "execution_count": 221,
   "metadata": {},
   "outputs": [
    {
     "name": "stdout",
     "output_type": "stream",
     "text": [
      "['connect.ust.hk']\n"
     ]
    }
   ],
   "source": [
    "# ^ inside [] means not\n",
    "# e.g., [^ ] means everything, but blank space\n",
    "D = \"From R2@connect.ust.hk Mon 2016 8:15:14 Home PC\"\n",
    "print(re.findall(\"@([^ ]*)\", D))"
   ]
  },
  {
   "cell_type": "markdown",
   "metadata": {},
   "source": [
    "# Modules (save you a lot of time!)"
   ]
  },
  {
   "cell_type": "code",
   "execution_count": null,
   "metadata": {},
   "outputs": [],
   "source": [
    "# https://docs.python.org/3/py-modindex.html\n",
    "# You can go and import\n",
    "# You can use pip or conda to install modules"
   ]
  },
  {
   "cell_type": "markdown",
   "metadata": {},
   "source": [
    "# Classes and Objects"
   ]
  },
  {
   "cell_type": "code",
   "execution_count": 6,
   "metadata": {},
   "outputs": [
    {
     "name": "stdout",
     "output_type": "stream",
     "text": [
      "*Sam:\n",
      "so far 1 drink(s)\n",
      "so far 2 drink(s)\n",
      "so far 3 drink(s)\n",
      "*Jack:\n",
      "so far 1 drink(s)\n",
      "so far 2 drink(s)\n",
      "*Jack and Sam:\n",
      "so far 3 drink(s)\n",
      "so far 4 drink(s)\n",
      "OOP is awesome!\n"
     ]
    }
   ],
   "source": [
    "class numberofdrinks:\n",
    "    x = 0 \n",
    "    def moredrink(self):\n",
    "        self.x += 1\n",
    "        print(\"so far\", self.x, \"drink(s)\")\n",
    "        \n",
    "\n",
    "print(\"*Sam:\")\n",
    "Sam = numberofdrinks()\n",
    "Sam.moredrink()\n",
    "Sam.moredrink()\n",
    "Sam.moredrink()\n",
    "\n",
    "print(\"*Jack:\")\n",
    "Jack = numberofdrinks()\n",
    "Jack.moredrink()\n",
    "Jack.moredrink()\n",
    "\n",
    "print(\"*Jack and Sam:\")\n",
    "Jack.moredrink()\n",
    "Sam.moredrink()\n",
    "\n",
    "print(\"OOP is awesome!\")"
   ]
  },
  {
   "cell_type": "code",
   "execution_count": 7,
   "metadata": {},
   "outputs": [
    {
     "name": "stdout",
     "output_type": "stream",
     "text": [
      "type is <class '__main__.numberofdrinks'>\n",
      "Methods and attributes are ['__class__', '__delattr__', '__dict__', '__dir__', '__doc__', '__eq__', '__format__', '__ge__', '__getattribute__', '__gt__', '__hash__', '__init__', '__init_subclass__', '__le__', '__lt__', '__module__', '__ne__', '__new__', '__reduce__', '__reduce_ex__', '__repr__', '__setattr__', '__sizeof__', '__str__', '__subclasshook__', '__weakref__', 'moredrink', 'x']\n"
     ]
    }
   ],
   "source": [
    "print(\"type is\", type(Sam))\n",
    "print(\"Methods and attributes are\", dir(Sam)) # Pay attention to the method moredrink and attribute x"
   ]
  },
  {
   "cell_type": "code",
   "execution_count": 5,
   "metadata": {},
   "outputs": [],
   "source": [
    "\"\"\"\n",
    "Object Oriented Programming (OOP): It is a method of programming that attempts to model some process or thing in the real world as a class or object\n",
    "\"\"\"\n",
    "class vehichle: #A class\n",
    "    pass #The pass statement is useful when you don't write the implementation of a function but you want to implement it in the future.\n",
    "\n",
    "bus = vehichle() #An instance or an object\n",
    "car = vehichle()\n",
    "ship = vehichle()"
   ]
  },
  {
   "cell_type": "code",
   "execution_count": 17,
   "metadata": {},
   "outputs": [
    {
     "name": "stdout",
     "output_type": "stream",
     "text": [
      "I am constructed.\n"
     ]
    }
   ],
   "source": [
    "# Objects are created, used, and discarded\n",
    "# The constructor and destructor\n",
    "\n",
    "# The constructor is typically used to set up variables. The destructor is seldom used\n",
    "class solditems:\n",
    "    x = 0 \n",
    "    \n",
    "    # This is a constructor\n",
    "    def __init__(self):\n",
    "        print(\"I am constructed.\")\n",
    "    \n",
    "    # Similar to what we had before:\n",
    "    def moresell(self):\n",
    "        self.x += 1\n",
    "        print(\"this item is sold\", self.x, \"times.\")\n",
    "        \n",
    "    # This is a deconstructor    \n",
    "    def __del__(self):\n",
    "        print(\"I am deconstructed\", self.x)\n",
    "        \n",
    "pencil = solditems()"
   ]
  },
  {
   "cell_type": "code",
   "execution_count": 18,
   "metadata": {},
   "outputs": [
    {
     "name": "stdout",
     "output_type": "stream",
     "text": [
      "this item is sold 1 times.\n",
      "this item is sold 2 times.\n",
      "this item is sold 3 times.\n",
      "this item is sold 4 times.\n",
      "this item is sold 5 times.\n"
     ]
    }
   ],
   "source": [
    "pencil.moresell()\n",
    "pencil.moresell()\n",
    "pencil.moresell()\n",
    "pencil.moresell()\n",
    "pencil.moresell()"
   ]
  },
  {
   "cell_type": "code",
   "execution_count": 19,
   "metadata": {},
   "outputs": [
    {
     "name": "stdout",
     "output_type": "stream",
     "text": [
      "I am deconstructed 5\n"
     ]
    }
   ],
   "source": [
    "pencil = \"Hi\" # Pencil is now something else and does not belong to class solditems "
   ]
  },
  {
   "cell_type": "code",
   "execution_count": 8,
   "metadata": {},
   "outputs": [
    {
     "name": "stdout",
     "output_type": "stream",
     "text": [
      "You are born in China.\n"
     ]
    }
   ],
   "source": [
    "# Constructors can have additional parameters\n",
    "class My_passport:\n",
    "    born = \"\"\n",
    "    def __init__(self, a): # Additional parameter a\n",
    "        self.born = a\n",
    "        print(\"You are born in \" + self.born +\".\")\n",
    "        \n",
    "Sam = My_passport(\"China\")"
   ]
  },
  {
   "cell_type": "code",
   "execution_count": 17,
   "metadata": {},
   "outputs": [
    {
     "name": "stdout",
     "output_type": "stream",
     "text": [
      "You are born in Egypt.\n",
      "You are born in Iceland.\n",
      "*************\n",
      "You have traveled to 1 countries.\n",
      "You have traveled to 2 countries.\n",
      "*************\n",
      "You are born in Turkey.\n",
      "You have traveled to 10 countries.\n"
     ]
    }
   ],
   "source": [
    "# We can also give default values\n",
    "# By the way, you might have realized all instances are independent\n",
    "class My_passport:\n",
    "    born = \"\"\n",
    "    pages_used = 0\n",
    "    def __init__(self, a = \"Egypt\", b = 0):\n",
    "        self.born = a\n",
    "        self.pages_used = b\n",
    "        print(\"You are born in \" + self.born +\".\")\n",
    "    \n",
    "    def newtravel(self):\n",
    "        self.pages_used += 1\n",
    "        print(\"You have traveled to\", self.pages_used, \"countries.\")\n",
    "        \n",
    "Osman = My_passport()\n",
    "Dan = My_passport(\"Iceland\")\n",
    "print(\"*************\")\n",
    "Dan.newtravel()\n",
    "Dan.newtravel()\n",
    "print(\"*************\")\n",
    "Vedat = My_passport(\"Turkey\", 9)\n",
    "Vedat.newtravel()"
   ]
  },
  {
   "cell_type": "code",
   "execution_count": 26,
   "metadata": {},
   "outputs": [
    {
     "name": "stdout",
     "output_type": "stream",
     "text": [
      "The result is: 9\n"
     ]
    }
   ],
   "source": [
    "class generaladd:\n",
    "    def myadder(self, a, b): # self is important!!! # Do not forget!!!\n",
    "        print(\"The result is:\", a + b)\n",
    "        \n",
    "mysum = generaladd()\n",
    "mysum.myadder(4,5)"
   ]
  },
  {
   "cell_type": "code",
   "execution_count": 13,
   "metadata": {},
   "outputs": [
    {
     "name": "stdout",
     "output_type": "stream",
     "text": [
      "This game is awesome!\n",
      "25\n",
      "Hello gamers!\n",
      "0\n",
      "no comments!\n",
      "0\n"
     ]
    }
   ],
   "source": [
    "#Another example\n",
    "class comment:\n",
    "    def __init__(self, username, text = \"no comments!\", likes = 0): #We can set some default values\n",
    "        self.username = username\n",
    "        self.text = text\n",
    "        self.likes = likes\n",
    "Text1 = comment(\"Reza\", \"This game is awesome!\", 25)\n",
    "print(Text1.text)\n",
    "print(Text1.likes)\n",
    "Text2 = comment(\"Reza\", \"Hello gamers!\")\n",
    "print(Text2.text)\n",
    "print(Text2.likes)\n",
    "Text3 = comment(\"Josh\")\n",
    "print(Text3.text)\n",
    "print(Text3.likes)"
   ]
  },
  {
   "cell_type": "code",
   "execution_count": 8,
   "metadata": {},
   "outputs": [
    {
     "name": "stdout",
     "output_type": "stream",
     "text": [
      "Ahmad\n",
      "So far 1\n",
      "So far 2\n",
      "So far 3\n",
      "Ehsan\n",
      "So far 6\n"
     ]
    }
   ],
   "source": [
    "# Object Inheritence\n",
    "# A dummy example :)\n",
    "class number_of_visit:\n",
    "    def __init__(self, x = 0):\n",
    "        self.x = x\n",
    "\n",
    "class morevisit(number_of_visit): #morevisit is a class which extends the class of number_of_visit # It has all capabilities of the class of number_of_visit and more!\n",
    "    def adder(self):\n",
    "        self.x += 1\n",
    "        print(\"So far\", self.x)\n",
    "        \n",
    "print(\"Ahmad\")\n",
    "Ahmad = morevisit()\n",
    "Ahmad.adder()\n",
    "Ahmad.adder()\n",
    "Ahmad.adder()\n",
    "\n",
    "print(\"Ehsan\")\n",
    "Ehsan = morevisit(5)\n",
    "Ehsan.adder()"
   ]
  },
  {
   "cell_type": "code",
   "execution_count": 17,
   "metadata": {},
   "outputs": [
    {
     "name": "stdout",
     "output_type": "stream",
     "text": [
      "number of books = 51\n",
      "number of books = 52\n",
      "number of books = 51\n"
     ]
    }
   ],
   "source": [
    "class library:\n",
    "    number = 0 # number of books\n",
    "    def __init__(self, x):\n",
    "        self.number = x\n",
    "        \n",
    "    def addabook(self):\n",
    "        self.number += 1\n",
    "        print(\"number of books =\", self.number)\n",
    "    \n",
    "    def removeabook(self):\n",
    "        self.number -= 1\n",
    "        if self.number < 0:\n",
    "            print(\"no book is left.\")\n",
    "        else:\n",
    "            print(\"number of books =\", self.number)    \n",
    "        \n",
    "class giftedbooks(library):\n",
    "    def received(self):\n",
    "        self.addabook()\n",
    "\n",
    "        \n",
    "HKUST = giftedbooks(50)\n",
    "HKUST.received()\n",
    "HKUST.addabook()\n",
    "HKUST.removeabook()"
   ]
  },
  {
   "cell_type": "markdown",
   "metadata": {},
   "source": [
    "# Sorting an array"
   ]
  },
  {
   "cell_type": "code",
   "execution_count": 8,
   "metadata": {},
   "outputs": [],
   "source": [
    "A = [12, 13, 6, 50, 80, 20, 21,96, 42, 100, 75]\n",
    "def insertionsort(A):\n",
    "    n = len(A)\n",
    "    for j in range(1,n):\n",
    "        key = A[j]\n",
    "        \n",
    "        i = j-1\n",
    "        while i > -1 and A[i] > key:\n",
    "            A[i+1] = A[i]\n",
    "            i -= 1\n",
    "        A[i+1] = key"
   ]
  },
  {
   "cell_type": "code",
   "execution_count": 9,
   "metadata": {},
   "outputs": [
    {
     "name": "stdout",
     "output_type": "stream",
     "text": [
      "[6, 12, 13, 20, 21, 42, 50, 75, 80, 96, 100]\n"
     ]
    }
   ],
   "source": [
    "insertionsort(A)\n",
    "print(A)"
   ]
  },
  {
   "cell_type": "markdown",
   "metadata": {},
   "source": [
    "# Basic Socket Programming"
   ]
  },
  {
   "cell_type": "code",
   "execution_count": 47,
   "metadata": {},
   "outputs": [
    {
     "name": "stdout",
     "output_type": "stream",
     "text": [
      "HTTP/1.0 200 OK\r\n",
      "Accept-Ranges: bytes\r\n",
      "Vary: Accept-Encoding\r\n",
      "Content-Type: text/plain\r\n",
      "Cross-Origin-Resource-Policy: cross-origin\r\n",
      "Content-Length: 286\r\n",
      "Date: Wed, 18 Nov 2020 08:16:19 GMT\r\n",
      "Expires: Wed, 18 Nov 2020 08:16:19 GMT\r\n",
      "Cache-Control: private, max-age=0\r\n",
      "Last-Modified: Mon, 01 Jul 2019 19:30:00 GMT\r\n",
      "X-Content-Type-Options: nosniff\r\n",
      "Server: sffe\r\n",
      "X-XSS-Protection: 0\r\n",
      "\r\n",
      "Google is built by a large team of engineers, designers, researchers, robots, and others in many different sites across the globe. It is updated continuously, and built with more tools and technologies than we can shake a stick at. If you'd like to help us out, see careers.google.com.\n"
     ]
    }
   ],
   "source": [
    "# This section is optional \n",
    "# One of the requirements for using the HTTP protocol is the need to send and receive data as bytes objects, instead of strings.\n",
    "# the encode() and decode() methods convert strings into bytes objects and back again\n",
    "# encode() and b'' are equivalent\n",
    "import socket\n",
    "\n",
    "mysock = socket.socket(socket.AF_INET, socket.SOCK_STREAM)# No need to memorize these, I auto-completed them with tab key # This line is like a handle\n",
    "mysock.connect((\"www.google.com\", 80)) # Host and port # port 80 is for HTTP protocol # This is where the actual connection happens # It is like dialing the phone\n",
    "\n",
    "cmd = \"GET http://www.google.com/humans.txt HTTP/1.0\\r\\n\\r\\n\".encode()\n",
    "mysock.send(cmd)\n",
    "\n",
    "while True:\n",
    "    data = mysock.recv(512)\n",
    "    if len(data)<1:\n",
    "        break\n",
    "    print(data.decode(), end = \"\") # The default decode is to UTF-8\n",
    "mysock.close()"
   ]
  },
  {
   "cell_type": "markdown",
   "metadata": {},
   "source": [
    "# urllib"
   ]
  },
  {
   "cell_type": "code",
   "execution_count": 5,
   "metadata": {},
   "outputs": [
    {
     "name": "stdout",
     "output_type": "stream",
     "text": [
      "Google is built by a large team of engineers, designers, researchers, robots, and others in many different sites across the globe. It is updated continuously, and built with more tools and technologies than we can shake a stick at. If you'd like to help us out, see careers.google.com.\n"
     ]
    }
   ],
   "source": [
    "# Since http is so common, we have a library that does all the socket work for us and makes web pages look like a file\n",
    "# Instead of those socket things, we can use urllib\n",
    "import urllib.request, urllib.parse, urllib.error\n",
    "\n",
    "fhand = urllib.request.urlopen(\"http://www.google.com/humans.txt\")\n",
    "for line in fhand:\n",
    "    print(line.decode().strip())"
   ]
  },
  {
   "cell_type": "code",
   "execution_count": 6,
   "metadata": {},
   "outputs": [
    {
     "name": "stdout",
     "output_type": "stream",
     "text": [
      "But soft what light through yonder window breaks\n",
      "It is the east and Juliet is the sun\n",
      "Arise fair sun and kill the envious moon\n",
      "Who is already sick and pale with grief\n"
     ]
    }
   ],
   "source": [
    "# Another example\n",
    "\n",
    "import urllib.request, urllib.parse, urllib.error\n",
    "\n",
    "fhand = urllib.request.urlopen(\"http://data.pr4e.org/romeo.txt\")\n",
    "for line in fhand:\n",
    "    print(line.decode().strip())"
   ]
  },
  {
   "cell_type": "code",
   "execution_count": 21,
   "metadata": {},
   "outputs": [
    {
     "name": "stdout",
     "output_type": "stream",
     "text": [
      "[(3, 'the'), (3, 'is'), (3, 'and'), (2, 'sun')]\n"
     ]
    }
   ],
   "source": [
    "import urllib.request, urllib.parse, urllib.error\n",
    "\n",
    "fhand = urllib.request.urlopen(\"http://data.pr4e.org/romeo.txt\")\n",
    "\n",
    "counts = dict()\n",
    "for line in fhand:\n",
    "    words = line.decode().split()\n",
    "    for word in words:\n",
    "        counts[word] = counts.get(word, 0) + 1 \n",
    "\n",
    "# What are the four most repeated words?        \n",
    "nlist = list()        \n",
    "for k,v in counts.items():\n",
    "    nlist.append((v,k))\n",
    "tmp = sorted(nlist, reverse = True)\n",
    "print(tmp[:4])\n"
   ]
  },
  {
   "cell_type": "code",
   "execution_count": 22,
   "metadata": {},
   "outputs": [
    {
     "name": "stdout",
     "output_type": "stream",
     "text": [
      "<!DOCTYPE html PUBLIC \"-//W3C//DTD XHTML 1.0 Transitional//EN\" \"http://www.w3.org/TR/xhtml1/DTD/xhtml1-transitional.dtd\">\n",
      "<html xmlns=\"http://www.w3.org/1999/xhtml\">\n",
      "<head>\n",
      "<meta http-equiv=\"Content-Type\" content=\"text/html; charset=utf-8\" />\n",
      "<title>Reza Hadi Mogavi</title>\n",
      "\n",
      "<link href=\"https://fonts.googleapis.com/css?family=Roboto+Slab&display=swap\" rel=\"stylesheet\">\n",
      "<link href=\"https://fonts.googleapis.com/css?family=Arapey&display=swap\" rel=\"stylesheet\">\n",
      "<link rel=\"stylesheet\" href=\"css/style.css\" type=\"text/css\" media=\"screen\" />\n",
      "<link rel=\"stylesheet\" href=\"css/grid.css\" type=\"text/css\" media=\"screen\" />\n",
      "</head>\n",
      "\n",
      "<body>\n",
      "<div id=\"wrapper\">\n",
      "<table width=\"850\" border=\"1\">\n",
      "<tr>\n",
      "<td width=\"114\"><img src=\"hkust.png\" alt=\"\" width=\"70\" height=\"90\" class=\"center\"/></td>\n",
      "<td width=\"314\"><h6>Department of Computer Science and Engineering</h6>\n",
      "<h6>Hong Kong University of Science and Technology</h6></td>\n",
      "<td width=\"342\"><h3>HADI MOGAVI, Reza (洪瑞薩)</h3><h3>Ph.D. Student</h3></td>\n",
      "</tr>\n",
      "</table>\n",
      "<p>&nbsp;</p>\n",
      "<table width=\"250\" border=\"0\" align=\"left\">\n",
      "<tr>\n",
      "<td width=\"40\" ><h6><a href=\"#Recent_News\">Updates</a></h6></td>\n",
      "<td width=\"40\"><h6><a href=\"#Publications_1\">Publications</a></h6></td>\n",
      "<td width=\"40\"><h6><a href=\"#Teach_1\">Teaching</a></h6></td>\n",
      "<td width=\"40\"><h6><a href=\"#Awards_1\">Awards</a></h6></td>\n",
      "</tr>\n",
      "</table>\n",
      "<p>&nbsp;</p>\n",
      "<table width=\"846\" height=\"369\" border=\"0\">\n",
      "<tr>\n",
      "<td width=\"48\" height=\"365\" valign=\"top\"><p>&nbsp;</p>\n",
      "<td width=\"371\" height=\"365\" valign=\"top\"><p>&nbsp;</p>\n",
      "<p><img src=\"HADI_MOGAVI_Reza.jpg\" alt=\"\" width=\"407\" height=\"300\" /></p></td>\n",
      "<td><p>&nbsp;</p></td>\n",
      "<td width=\"458\"><table width=\"401\" border=\"0\">\n",
      "<tr>\n",
      "<td><h3><strong>Brief Introduction</strong></h3></td>\n",
      "</tr>\n",
      "<tr>\n",
      "<td><p style=\"text-align:justify\">My name is Reza and I am currently a Ph.D. student in the <a href=\"https://www.cse.ust.hk/\">department of Computer Science and Engineering</a> at <a href=\"https://www.ust.hk/\">Hong Kong University of Science and Technology (HKUST)</a>, co-advised by <a href=\"https://www.cse.ust.hk/~panhui/\">Prof. Pan Hui</a> and <a href=\"https://www.cse.ust.hk/~mxj/\">Prof. Xiaojuan Ma</a>. I have received my M.Sc. degree in \"Computer Networks Engineering\" in 2016 from Sharif University of Technology and my B.Sc. degree in \"Information Technology Engineering\" in 2014 from Azerbaijan University of Tabriz. In the year 2014, I was honored by IRAN's ministery of science to receive the title of \"Exemplary Student\" among all of the undergraduate students. I am always eager to learn new things, and my main research interests include Human-Computer Interaction (HCI), Persuasive Technologies, Machine Learning (ML), and Data Mining.</p></td>\n",
      "</tr>\n",
      "</table>\n",
      "<table width=\"373\" border=\"0\">\n",
      "<tr>\n",
      "<td width=\"54\"><strong>Email:</strong></td>\n",
      "<td width=\"303\"><font color=\"red\">rhadimogavi <strong>AT</strong> cse <strong>dot</strong> ust <strong>dot</strong> hk</font></td>\n",
      "</tr>\n",
      "<tr>\n",
      "<td><strong>Office:</strong></td>\n",
      "<td><font color=\"red\">Room 4205, Lift 19, HKUST</font></td>\n",
      "</tr>\n",
      "<tr>\n",
      "<td><strong>LinkedIn:</strong></td>\n",
      "<td><font color=\"red\">www.linkedin.com/in/reza-hadi-mogavi</font></td>\n",
      "</tr>\n",
      "</table></td>\n",
      "</tr>\n",
      "</table>\n",
      "<h3 id=\"Recent_News\"><u>Recent Updates</u></h3>\n",
      "<ul>\n",
      "<li> <strong>January 2020:</strong> I will serve as one of the Technical Program Committee members at <a href=\"https://http://asonam.cpsc.ucalgary.ca/2020/\">ASONAM 2020</a> (Multidisciplinary Track).</li>\n",
      "\n",
      "<li> <strong>December 2019:</strong> I will serve as an Associate Chair (AC) on the Program Committee (PC) of <a href=\"https://chi2020.acm.org/\">CHI 2020</a> (Late Breaking Works).</li>\n",
      "\n",
      "<li> <strong>October 2019:</strong> I had the honor to help the peer-reviewing process of CHI 2020 and WWW 2020.</li>\n",
      "\n",
      "<li> <strong>August 2019:</strong> We presented our paper <a href=\"https://link.springer.com/chapter/10.1007/978-3-030-29908-8_29\">\"HRCR: Hidden Markov-Based Reinforcement to Reduce Churn in Question Answering Forums\"</a> at PRICAI 2019. Local people and the conference staff were very friendly! </li>\n",
      "\n",
      "<li> <strong>June 2019:</strong> Our paper <a href=\"https://pdfs.semanticscholar.org/ac2c/4384e94b2cbab25568d470f3ba0d963c8319.pdf\">\"Effects of Ego Networks and Communities on Self-Disclosure in an Online Social Network\"</a> is accepted in ASONAM 2019.</li>\n",
      "\n",
      "<li> <strong>Apr 2019:</strong> I successfully finished the online course of \"Protecting Human Research Participants\". Furthermore, I passed the test of \"PHRP for Harvard Non-Affiliate researchers\". </li>\n",
      "\n",
      "<li> <strong>March 2019:</strong> I am honored to receive the title of \"Outstanding Reviewer\" from the journal of <a href=\"https://www.journals.elsevier.com/computers-in-human-behavior\">\"Computers in Human Behavior\".</a></li>\n",
      "\n",
      "<li> <strong>Jan 2019:</strong> I am officially joining the <a href=\"http://hci.cse.ust.hk/\">HCI Initiative lab at HKUST</a> to be co-supervised by Prof. Xiaojuan Ma. </li>\n",
      "\n",
      "<li> <strong>Nov 2018:</strong> I am honored to receive <a href=\"https://www.cse.ust.hk/News/SCSA2018/\">\"Prof. Samuel Chanson Award\"</a> for being best Teaching Assistant for the course of \"computer organization\".</li>\n",
      "\n",
      "<li> <strong>Sept 2018:</strong> I successfully passed my <a href=\"https://www.cse.ust.hk/pg/defenses/F18/rhadimogavi-27-09-2018.html\">Ph.D. Qualification Exam.</a> I want to thank dear professor Pan Hui and all my amazing PQE committee members.</li>\n",
      "</ul>\n",
      "<p>&nbsp;</p>\n",
      "<p>&nbsp;</p>\n",
      "<h3 id=\"Publications_1\", align=\"left\"><u>Publications</u></h3>\n",
      "<ul>\n",
      "<li> <b>Effects of Ego Networks and Communities on Self-Disclosure in an Online Social Network</b>. Young D. Kwon, <u>Reza Hadi Mogavi</u>, Ehsan Ul Haq, Youngjin Kwon, Xiaojuan Ma, and Pan Hui. In the Proceedings of International Conference on Advances in Social Networks Analysis and Mining (ASONAM'2019), Vancouver, Canada, August 27-30, 2019.</li>\n",
      "<li> <b>HRCR: Hidden Markov-based Reinforcement to Reduce Churn in Question Answering Forums</b>. <u>Reza Hadi Mogavi</u>, Sujit Gujar, Xiaojuan Ma, and Pan Hui. In the Proceedings of 16th Pacific Rim International Conference on Artificial Intelligence (PRICAI'19), Fiji, August 26-30, 2019. (<a href=\"PaperShelf/HRCR.pdf\">Here</a>)</li>\n",
      "<li> <b>A New High Performance Approach: Merging Optimal Multicast Sessions for Supporting Multisource Routing</b>. Mohsen Heydarian and <u>Reza Hadi Mogavi</u>. The Journal of Supercomputing, 63(3), pp. 871-896, 2013.</li>\n",
      "</ul>\n",
      "<p>&nbsp;</p>\n",
      "<p>&nbsp;</p>\n",
      "<h3><font color=\"blue\">I am always passionate about teaching and I really love and care about my students.</font></h3>\n",
      "<p>&nbsp;</p>\n",
      "<h3 id=\"Teach_1\", align=\"left\"><u>Teaching Experience</u></h3>\n",
      "<ul>\n",
      "<li> TA of Design and Analysis of Computer Architectures@HKUST [Spring 2020]\n",
      "<li> Tutor of Computer Organization @HKUST [Fall 2018, Spring 2018, Fall 2019, Spring 2019] </li>\n",
      "<li> Lab TA of Object-Oriented Programming and Data Structures @HKUST [Spring 2017] </li>\n",
      "<li> TA of Software Architecture @Sharif University of Technology [Fall 2017] </li>\n",
      "<li> TA of Multimedia Systems @Sharif University of Technology [Spring 2016] </li>\n",
      "<li> TA of Probability for CS Engineers @ Sharif University of Technology [Fall 2016]</li>\n",
      "</ul>\n",
      "<p>&nbsp;</p>\n",
      "<p>&nbsp;</p>\n",
      "<h3 id=\"Awards_1\", align=\"left\"><u>Awards</u></h3>\n",
      "<ul>\n",
      "<li>Bestowed with the of title of \"Exemplary Engineering Student of IRAN\" among all undergraduate students</li>\n",
      "<li>The Award of Professor Samuel Chanson (Best TA @CSE-HKUST)</li>\n",
      "<li>The Award of \"Outstanding Reviewer\" in Elsevier Journal of CHB</li>\n",
      "<li>HKUST Research Travel Grant (RTG) to attend the conference of PRICAI</li>\n",
      "<li>HKUST Scholarship for Ph.D.</li>\n",
      "</ul>\n",
      "</body>\n",
      "</html>\n",
      "\n",
      "\n"
     ]
    }
   ],
   "source": [
    "import urllib.request, urllib.parse, urllib.error\n",
    "\n",
    "fhand = urllib.request.urlopen(\"http://rhadimogavi.student.ust.hk/index.html\")\n",
    "for line in fhand:\n",
    "    print(line.decode().strip())"
   ]
  },
  {
   "cell_type": "code",
   "execution_count": 36,
   "metadata": {},
   "outputs": [
    {
     "name": "stdout",
     "output_type": "stream",
     "text": [
      "Requirement already satisfied: BeautifulSoup4 in c:\\programdata\\anaconda3\\lib\\site-packages (4.8.2)\n",
      "Requirement already satisfied: soupsieve>=1.2 in c:\\programdata\\anaconda3\\lib\\site-packages (from BeautifulSoup4) (1.9.5)\n"
     ]
    },
    {
     "name": "stderr",
     "output_type": "stream",
     "text": [
      "WARNING: pip is being invoked by an old script wrapper. This will fail in a future version of pip.\n",
      "Please see https://github.com/pypa/pip/issues/5599 for advice on fixing the underlying issue.\n",
      "To avoid this problem you can invoke Python with '-m pip' instead of running pip directly.\n"
     ]
    }
   ],
   "source": [
    "# Crawling the web\n",
    "# Beautiful Soup has made life easier (https://www.crummy.com/software/BeautifulSoup/bs4/doc/)\n",
    "# Installing beautifulsoup (CHECK THE INTERNET!)\n",
    "import pip\n",
    "\n",
    "if int(pip.__version__.split('.')[0])>9:\n",
    "    from pip._internal import main\n",
    "else:\n",
    "    from pip import main\n",
    "def install(package):\n",
    "    main(['install', package])\n",
    "    \n",
    "install('BeautifulSoup4')"
   ]
  },
  {
   "cell_type": "code",
   "execution_count": 38,
   "metadata": {
    "scrolled": true
   },
   "outputs": [
    {
     "name": "stdout",
     "output_type": "stream",
     "text": [
      "#Recent_News\n",
      "#Publications_1\n",
      "#Teach_1\n",
      "#Awards_1\n",
      "https://www.cse.ust.hk/\n",
      "https://www.ust.hk/\n",
      "https://www.cse.ust.hk/~panhui/\n",
      "https://www.cse.ust.hk/~mxj/\n",
      "https://http://asonam.cpsc.ucalgary.ca/2020/\n",
      "https://chi2020.acm.org/\n",
      "https://link.springer.com/chapter/10.1007/978-3-030-29908-8_29\n",
      "https://pdfs.semanticscholar.org/ac2c/4384e94b2cbab25568d470f3ba0d963c8319.pdf\n",
      "https://www.journals.elsevier.com/computers-in-human-behavior\n",
      "http://hci.cse.ust.hk/\n",
      "https://www.cse.ust.hk/News/SCSA2018/\n",
      "https://www.cse.ust.hk/pg/defenses/F18/rhadimogavi-27-09-2018.html\n",
      "PaperShelf/HRCR.pdf\n"
     ]
    }
   ],
   "source": [
    "import urllib.request, urllib.parse, urllib.error\n",
    "from bs4 import BeautifulSoup\n",
    "\n",
    "myhtml = urllib.request.urlopen(\"http://rhadimogavi.student.ust.hk/index.html\").read()\n",
    "soup = BeautifulSoup(myhtml, \"html.parser\")\n",
    "\n",
    "# Retrieve all of the anchor tags\n",
    "tags = soup(\"a\")\n",
    "for tag in tags:\n",
    "    print(tag.get(\"href\", None)) #Use tag.get('attr') if you’re not sure attr is defined, just as you would with a Python dictionary."
   ]
  },
  {
   "cell_type": "code",
   "execution_count": 43,
   "metadata": {},
   "outputs": [],
   "source": [
    "import urllib.request, urllib.parse, urllib.error\n",
    "from bs4 import BeautifulSoup\n",
    "import ssl # We will use this to avoid ssl errors\n",
    "\n",
    "# For ignoring SSL certificate errors (you can skip reading this chunk if not interested)\n",
    "ctx = ssl.create_default_context()\n",
    "ctx.check_hostname = False\n",
    "ctx.verify_mode = ssl.CERT_NONE\n",
    " \n",
    "myhtml = urllib.request.urlopen(\"http://rhadimogavi.student.ust.hk/index.html\", context = ctx).read()\n",
    "\n",
    "# The rest of the program would be similar to what we had before"
   ]
  },
  {
   "cell_type": "code",
   "execution_count": 20,
   "metadata": {},
   "outputs": [
    {
     "name": "stdout",
     "output_type": "stream",
     "text": [
      "Enter - http://py4e-data.dr-chuck.net/comments_42.html\n",
      "Count 50\n",
      "Sum 2553\n"
     ]
    }
   ],
   "source": [
    "import urllib.request, urllib.parse, urllib.error\n",
    "from bs4 import BeautifulSoup\n",
    "import ssl\n",
    "\n",
    "# Ignore SSL certificate errors\n",
    "ctx = ssl.create_default_context()\n",
    "ctx.check_hostname = False\n",
    "ctx.verify_mode = ssl.CERT_NONE\n",
    "\n",
    "url = input(\"Enter - \")\n",
    "html = urllib.request.urlopen(url, context = ctx).read()\n",
    "soup = BeautifulSoup(html, \"html.parser\")\n",
    "\n",
    "tot = 0\n",
    "cnt = 0\n",
    "# Retrieve all of the anchor tags\n",
    "tags = soup(\"span\")\n",
    "for tag in tags:\n",
    "    tot += int(tag.contents[0]) # .contents[] just gives you whats inside the tag\n",
    "    cnt += 1\n",
    "print(\"Count\", cnt)\n",
    "print(\"Sum\", tot)"
   ]
  },
  {
   "cell_type": "markdown",
   "metadata": {},
   "source": [
    "# XML (extensible markup language)"
   ]
  },
  {
   "cell_type": "code",
   "execution_count": 51,
   "metadata": {},
   "outputs": [
    {
     "name": "stdout",
     "output_type": "stream",
     "text": [
      "User count = 2\n",
      "============\n",
      "[<Element 'user' at 0x000001CE13035958>, <Element 'user' at 0x000001CE13035CC8>]\n",
      "============\n",
      "Name =  Reza\n",
      "Email =  No\n",
      "Phone number = +123456789\n",
      "Phone type = voda\n",
      "***********\n",
      "Name =  Mina\n",
      "Email =  Yes\n",
      "Phone number = +246856432\n",
      "Phone type = intl\n",
      "***********\n"
     ]
    }
   ],
   "source": [
    "# XML is a software and hardware independent markup language used to transport and store data.\n",
    "import xml.etree.ElementTree as ET\n",
    "\n",
    "# Besides commenting, \"\"\" Hi \"\"\" can be used for indicating multiple lines of string\n",
    "data = \"\"\"\n",
    "<users>\n",
    "    <user>\n",
    "        <name>Reza</name>\n",
    "        <phone type='voda'>+123456789</phone>\n",
    "        <email hide='No'/>\n",
    "    </user>\n",
    "    <user>\n",
    "        <name>Mina</name>\n",
    "        <phone type='intl'>+246856432</phone>\n",
    "        <email hide='Yes'/>\n",
    "    </user>\n",
    "</users>\n",
    "\"\"\"\n",
    "tree = ET.fromstring(data) # It returns a tree structure of our XML (parsed)\n",
    "\n",
    "# #Now we can access anything\n",
    "lst = tree.findall(\"user\") # The usage findall function is interesting here\n",
    "print(\"User count =\", len(lst))\n",
    "\n",
    "print(\"============\")\n",
    "print(lst) # It is actually a list of trees\n",
    "print(\"============\")\n",
    "\n",
    "for item in lst:\n",
    "    print(\"Name = \", item.find(\"name\").text)\n",
    "    print(\"Email = \", item.find(\"email\").get(\"hide\"))\n",
    "    print(\"Phone number =\", item.find(\"phone\").text)\n",
    "    print(\"Phone type =\", item.find(\"phone\").get(\"type\"))\n",
    "    print(\"***********\")"
   ]
  },
  {
   "cell_type": "markdown",
   "metadata": {},
   "source": [
    "# JSON (JavaScript Object Notation)"
   ]
  },
  {
   "cell_type": "code",
   "execution_count": 7,
   "metadata": {},
   "outputs": [
    {
     "name": "stdout",
     "output_type": "stream",
     "text": [
      "Name = Reza\n",
      "Email = No\n"
     ]
    }
   ],
   "source": [
    "# json is a lightweight format for storing and transporting data\n",
    "# json seems to be more popular than XML\n",
    "# You can think of json format as a tree as well\n",
    "\n",
    "import json\n",
    "# json represents data as nested lists and dictionaries\n",
    "data = \"\"\" {\n",
    "\"name\" : \"Reza\",\n",
    "\"phone\" : {\n",
    "    \"type\" : \"iphone\",\n",
    "    \"number\" : \"+123456895\"},\n",
    "\"email\":{\n",
    "    \"hide\":\"No\"}\n",
    "}\n",
    "\"\"\"\n",
    "# pay attention to {}s in json format # Don't forget!!!\n",
    "\n",
    "info = json.loads(data)\n",
    "print(\"Name =\", info[\"name\"]) # Similar to dictionary in python\n",
    "print(\"Email =\", info[\"email\"][\"hide\"])"
   ]
  },
  {
   "cell_type": "code",
   "execution_count": 9,
   "metadata": {},
   "outputs": [
    {
     "name": "stdout",
     "output_type": "stream",
     "text": [
      "Number of users = 2\n",
      "**********\n",
      "Id = 25516\n",
      "Condition = 1\n",
      "Ticket = No\n",
      "************\n",
      "Id = 25517\n",
      "Condition = 2\n",
      "Ticket = Yes\n",
      "************\n"
     ]
    }
   ],
   "source": [
    "import json\n",
    "# The following resembles a list of two dictionaries\n",
    "data = \"\"\" [\n",
    "{ \"id\" : \"25516\",\n",
    "\"condition\" : \"1\",\n",
    "\"ticket\" : \"No\"},\n",
    "{ \"id\" : \"25517\",\n",
    "\"condition\" : \"2\",\n",
    "\"ticket\" : \"Yes\"}\n",
    "]\n",
    "\"\"\"\n",
    "\n",
    "info = json.loads(data)\n",
    "print(\"Number of users =\", len(info))\n",
    "print(\"**********\")\n",
    "for item in info:\n",
    "    print(\"Id =\", item[\"id\"])\n",
    "    print(\"Condition =\", item[\"condition\"])\n",
    "    print(\"Ticket =\", item[\"ticket\"])\n",
    "    print(\"************\")\n"
   ]
  },
  {
   "cell_type": "markdown",
   "metadata": {},
   "source": [
    "# APIs (application programming interfaces)"
   ]
  },
  {
   "cell_type": "code",
   "execution_count": null,
   "metadata": {},
   "outputs": [],
   "source": [
    "# e.g., Google geocoding API\n",
    "# Twitter API"
   ]
  },
  {
   "cell_type": "code",
   "execution_count": 41,
   "metadata": {},
   "outputs": [
    {
     "name": "stdout",
     "output_type": "stream",
     "text": [
      "Enter location: Academy of Fine Arts Warsaw Poland\n",
      "Retrieving http://py4e-data.dr-chuck.net/json?key=42&address=Academy+of+Fine+Arts+Warsaw+Poland\n",
      "Retrieved 4250 characters\n",
      "Place id ChIJLzAMf2DMHkcR5qCqT76Dq9M\n"
     ]
    }
   ],
   "source": [
    "import urllib.request, urllib.parse, urllib.error\n",
    "import json\n",
    "\n",
    "#Api\n",
    "api = 'http://py4e-data.dr-chuck.net/json?key=42&' \n",
    "# ? in URL acts as separator, it indicates end of URL resource path and start of query parameters.\n",
    "\n",
    "#Input data\n",
    "link = input('Enter location: ')\n",
    "link = api + urllib.parse.urlencode({'address':link})\n",
    "print('Retrieving', link)\n",
    "\n",
    "html = urllib.request.urlopen(link).read().decode()\n",
    "print('Retrieved', len(html), 'characters')\n",
    "\n",
    "try:\n",
    "    js = json.loads(html)\n",
    "except:\n",
    "    js = None\n",
    "\n",
    "placeId = js['results'][0]['place_id']\n",
    "print('Place id', placeId)"
   ]
  },
  {
   "cell_type": "markdown",
   "metadata": {},
   "source": [
    "# Database"
   ]
  },
  {
   "cell_type": "code",
   "execution_count": 15,
   "metadata": {},
   "outputs": [],
   "source": [
    "#Let's create a table named book"
   ]
  },
  {
   "cell_type": "markdown",
   "metadata": {},
   "source": [
    "![title](img/2020-11-29_13-59-43.png)"
   ]
  },
  {
   "cell_type": "code",
   "execution_count": 12,
   "metadata": {},
   "outputs": [
    {
     "name": "stdout",
     "output_type": "stream",
     "text": [
      "Enter file name:\n",
      "cwen@iupui.edu 5\n",
      "zqian@umich.edu 4\n",
      "david.horwitz@uct.ac.za 4\n",
      "louis@media.berkeley.edu 3\n",
      "gsilver@umich.edu 3\n",
      "stephen.marquard@uct.ac.za 2\n",
      "rjlowe@iupui.edu 2\n",
      "wagnermr@iupui.edu 1\n",
      "antranig@caret.cam.ac.uk 1\n",
      "gopal.ramasammycook@gmail.com 1\n"
     ]
    }
   ],
   "source": [
    "# SQL basics (Review)\n",
    "# CREATE TABLE \"User\" (\"name\" TEXT, \"email\" TEXT)\n",
    "# INSERT INTO User (name, email) VALUES (\"Sara\", \"sara56@connect.ust.hk\")\n",
    "# DELETE FROM User WHERE email = \"sara56@connect.ust.hk\"\n",
    "# UPDATE User SET name = \"Gabriel\" WHERE email = \"ann98@gmail.com\"\n",
    "# SELECT * FROM User     -----> This instruction selects all the columns from table User\n",
    "# SELECT * FROM User WHERE email = \"Sam@yahoo.com\"\n",
    "# SELECT * FROM User ORDER BY name \n",
    "# SELECT COUNT(*) FROM Users # It counts the rows from table Users\n",
    "\n",
    "# If you want to execute several lines of sql instuctions in DB browser (SQLite), add a semicolon ; at the end of each instruction, except the last one \n",
    "\n",
    "import sqlite3\n",
    "\n",
    "conn = sqlite3.connect(\"emaildb.sqlite\") # It will create this database in the same directory as these codes\n",
    "cur = conn.cursor() # This is like a handle in files\n",
    "\n",
    "# DROP TABLE [IF EXISTS] TableName\n",
    "cur.execute(\"DROP TABLE IF EXISTS Counts\")\n",
    "# The DROP TABLE IF EXISTS SQL statement enables a check to see that the table exists prior to attempting the dropping (deletion) of the table. If the table does not exists then the DROP TABLE statement is not executed so no error occurs.\n",
    "\n",
    "# For longer strings use triple quote \"\"\"Hi!\"\"\"\n",
    "cur.execute(\"\"\"CREATE TABLE Counts (email TEXT, count INTEGER)\"\"\")\n",
    "\n",
    "fname = input(\"Enter file name:\")\n",
    "if (len(fname) < 1):\n",
    "    fname = \"mbox-short.txt\"\n",
    "    \n",
    "fh = open(fname)\n",
    "for line in fh:\n",
    "    if not line.startswith(\"From: \"):\n",
    "        continue # continue forces the loop to start at the next iteration while pass means \"there is no code to execute here\" and will continue through the remainder or the loop body. continue will jump back to the top of the loop.\n",
    "    pieces = line.split()\n",
    "    email = pieces[1]\n",
    "    cur.execute(\"\"\"SELECT count FROM Counts WHERE email = ?\"\"\", (email,)) # ? means a place holder and it helps to prevent SQL injection #(email,) is a tuple with one element\n",
    "    row = cur.fetchone() # This method retrieves the next row of a query result set and returns a single sequence, or None if no more rows are available. \n",
    "    \n",
    "    if row is None:\n",
    "        cur.execute(\"\"\"INSERT INTO Counts (email, count) VALUES (?, 1)\"\"\", (email,))\n",
    "    else:\n",
    "        cur.execute(\"\"\"UPDATE Counts SET count = count + 1 WHERE email = ?\"\"\", (email,))\n",
    "\n",
    "    conn.commit()\n",
    "    \n",
    "# Now everything is done, let's take a look at what we have done\n",
    "sqlstr = \"SELECT email, count FROM Counts ORDER BY count DESC LIMIT 10\" # Descending order top 10\n",
    "\n",
    "for row in cur.execute(sqlstr):\n",
    "    print(str(row[0]), row[1]) # Because results are in format of a tuple\n",
    "        \n",
    "cur.close()"
   ]
  },
  {
   "cell_type": "code",
   "execution_count": 14,
   "metadata": {},
   "outputs": [
    {
     "name": "stdout",
     "output_type": "stream",
     "text": [
      "Enter file name: \n",
      "iupui.edu 536\n",
      "umich.edu 491\n",
      "indiana.edu 178\n",
      "caret.cam.ac.uk 157\n",
      "vt.edu 110\n",
      "uct.ac.za 96\n",
      "media.berkeley.edu 56\n",
      "ufp.pt 28\n",
      "gmail.com 25\n",
      "et.gatech.edu 17\n"
     ]
    }
   ],
   "source": [
    "import sqlite3\n",
    "\n",
    "conn = sqlite3.connect('orgdb.sqlite')\n",
    "cur = conn.cursor()\n",
    "\n",
    "cur.execute('DROP TABLE IF EXISTS Counts')\n",
    "\n",
    "cur.execute('''CREATE TABLE Counts (org TEXT, count INTEGER)''')\n",
    "\n",
    "fname = input('Enter file name: ')\n",
    "if (len(fname) < 1): fname = 'mbox.txt'\n",
    "\n",
    "fh = open(fname)\n",
    "for line in fh:\n",
    "    if not line.startswith('From: '): continue\n",
    "    pieces = line.split()\n",
    "    org = pieces[1].split(\"@\")\n",
    "    cur.execute('SELECT count FROM Counts WHERE org = ? ', (org[1],))\n",
    "    row = cur.fetchone()\n",
    "    if row is None:\n",
    "        cur.execute('''INSERT INTO Counts (org, count)\n",
    "                VALUES (?, 1)''', (org[1],))\n",
    "    else:\n",
    "        cur.execute('UPDATE Counts SET count = count + 1 WHERE org = ?',\n",
    "                    (org[1],))\n",
    "conn.commit()\n",
    "\n",
    "# https://www.sqlite.org/lang_select.html\n",
    "sqlstr = 'SELECT org, count FROM Counts ORDER BY count DESC LIMIT 10'\n",
    "\n",
    "for row in cur.execute(sqlstr):\n",
    "    print(str(row[0]), row[1])\n",
    "\n",
    "cur.close()"
   ]
  },
  {
   "cell_type": "code",
   "execution_count": null,
   "metadata": {},
   "outputs": [],
   "source": [
    "# JOIN operation\n",
    "# The JOIN operation links across several tables as part of a SELECT operation\n",
    "# You must tell the JOIN how to use the keys that make the connection between the tables using an ON clause \n",
    "# SELECT book.name, author.name FROM book JOIN author ON book.author_id=author.id #(foreignkey = primary key on the other table)\n",
    "# Joining two tables without an ON clause gives all possible combinations of rows"
   ]
  },
  {
   "cell_type": "markdown",
   "metadata": {},
   "source": [
    "# Introduction to Numpy"
   ]
  },
  {
   "cell_type": "code",
   "execution_count": 201,
   "metadata": {},
   "outputs": [
    {
     "name": "stdout",
     "output_type": "stream",
     "text": [
      "[1 2 3 4 5 6 7]\n"
     ]
    }
   ],
   "source": [
    "#Numpy: Numerical Computing Library\n",
    "import numpy as np\n",
    "\n",
    "a = np.array([1, 2, 3, 4, 5, 6, 7])\n",
    "print(a)"
   ]
  },
  {
   "cell_type": "code",
   "execution_count": 204,
   "metadata": {},
   "outputs": [
    {
     "name": "stdout",
     "output_type": "stream",
     "text": [
      "1 7 4\n",
      "[1 7 4]\n"
     ]
    }
   ],
   "source": [
    "#Numpy also allows multi indexing\n",
    "print(a[0], a[-1], a[3])\n",
    "print(a[[0, -1, 3]])"
   ]
  },
  {
   "cell_type": "markdown",
   "metadata": {},
   "source": [
    "# Array Types"
   ]
  },
  {
   "cell_type": "code",
   "execution_count": 209,
   "metadata": {},
   "outputs": [
    {
     "name": "stdout",
     "output_type": "stream",
     "text": [
      "int32 , float64\n"
     ]
    }
   ],
   "source": [
    "ia = np.array([1, 2, 3, 4])\n",
    "fa = np.array([1.0, 2.0, 3.0, 4.0])\n",
    "print(ia.dtype, \",\", fa.dtype)"
   ]
  },
  {
   "cell_type": "code",
   "execution_count": 212,
   "metadata": {},
   "outputs": [
    {
     "name": "stdout",
     "output_type": "stream",
     "text": [
      "float64\n"
     ]
    }
   ],
   "source": [
    "# We can specify the types when we create arrays\n",
    "fc = np.array([1, 1, 2, 3, 5], dtype = np.float)\n",
    "print(fc.dtype)"
   ]
  },
  {
   "cell_type": "markdown",
   "metadata": {},
   "source": [
    "# Dimensions and Shapes "
   ]
  },
  {
   "cell_type": "code",
   "execution_count": 213,
   "metadata": {},
   "outputs": [
    {
     "name": "stdout",
     "output_type": "stream",
     "text": [
      "(4, 3)\n"
     ]
    }
   ],
   "source": [
    "# Let's build a matrix with four rows and three columns\n",
    "\n",
    "A = np.array([\n",
    "    [1, 2, 3],\n",
    "    [4, 5, 6],\n",
    "    [7, 8, 9],\n",
    "    [10, 11, 12]])\n",
    "\n",
    "\n",
    "print(A.shape)# This code returns the shape of the matrix"
   ]
  },
  {
   "cell_type": "code",
   "execution_count": 214,
   "metadata": {},
   "outputs": [
    {
     "name": "stdout",
     "output_type": "stream",
     "text": [
      "2\n"
     ]
    }
   ],
   "source": [
    "print(A.ndim) # This returns the number of dimensions. One vertical and one horizontal"
   ]
  },
  {
   "cell_type": "code",
   "execution_count": 215,
   "metadata": {},
   "outputs": [
    {
     "name": "stdout",
     "output_type": "stream",
     "text": [
      "12\n"
     ]
    }
   ],
   "source": [
    "print(A.size) # The total number of elements we have in the matrix"
   ]
  },
  {
   "cell_type": "code",
   "execution_count": 216,
   "metadata": {},
   "outputs": [
    {
     "name": "stdout",
     "output_type": "stream",
     "text": [
      "[[[ 1  2  3]\n",
      "  [ 4  5  6]]\n",
      "\n",
      " [[ 7  8  9]\n",
      "  [10 11 12]]]\n"
     ]
    }
   ],
   "source": [
    "# Let's build a cube structure\n",
    "B = np.array([\n",
    "    [[1, 2 , 3],[4, 5, 6]],\n",
    "    [[7, 8, 9],[10, 11, 12]]\n",
    "])\n",
    "\n",
    "print(B)"
   ]
  },
  {
   "cell_type": "code",
   "execution_count": 217,
   "metadata": {},
   "outputs": [
    {
     "name": "stdout",
     "output_type": "stream",
     "text": [
      "3\n"
     ]
    }
   ],
   "source": [
    "print(B.ndim)"
   ]
  },
  {
   "cell_type": "code",
   "execution_count": 218,
   "metadata": {},
   "outputs": [
    {
     "name": "stdout",
     "output_type": "stream",
     "text": [
      "(2, 2, 3)\n"
     ]
    }
   ],
   "source": [
    "print(B.shape)"
   ]
  },
  {
   "cell_type": "code",
   "execution_count": 219,
   "metadata": {},
   "outputs": [
    {
     "name": "stdout",
     "output_type": "stream",
     "text": [
      "12\n"
     ]
    }
   ],
   "source": [
    "print(B.size)"
   ]
  },
  {
   "cell_type": "markdown",
   "metadata": {},
   "source": [
    "# Indexing and slicing matrices"
   ]
  },
  {
   "cell_type": "code",
   "execution_count": 220,
   "metadata": {},
   "outputs": [
    {
     "name": "stdout",
     "output_type": "stream",
     "text": [
      "[[17 20 12]\n",
      " [20 19 10]\n",
      " [ 8 13 12]]\n"
     ]
    }
   ],
   "source": [
    "test = np.array([\n",
    "#   col0 col1 col3 \n",
    "    [17, 20, 12], #row 0\n",
    "    [20, 19, 10], #row 1\n",
    "    [8, 13, 12]]) #row 2\n",
    "\n",
    "print(test)"
   ]
  },
  {
   "cell_type": "code",
   "execution_count": 221,
   "metadata": {},
   "outputs": [
    {
     "name": "stdout",
     "output_type": "stream",
     "text": [
      "[20 19 10]\n"
     ]
    }
   ],
   "source": [
    "print(test[1]) # This returns row 1"
   ]
  },
  {
   "cell_type": "code",
   "execution_count": 223,
   "metadata": {},
   "outputs": [
    {
     "name": "stdout",
     "output_type": "stream",
     "text": [
      "19\n"
     ]
    }
   ],
   "source": [
    "print(test[1][1])"
   ]
  },
  {
   "cell_type": "code",
   "execution_count": 224,
   "metadata": {},
   "outputs": [
    {
     "name": "stdout",
     "output_type": "stream",
     "text": [
      "19\n"
     ]
    }
   ],
   "source": [
    "# A simpler way is to write like this\n",
    "print(test[1, 1])"
   ]
  },
  {
   "cell_type": "code",
   "execution_count": 225,
   "metadata": {},
   "outputs": [
    {
     "name": "stdout",
     "output_type": "stream",
     "text": [
      "[20 19 13]\n"
     ]
    }
   ],
   "source": [
    "print(test[:, 1]) #column 1 from all rows"
   ]
  },
  {
   "cell_type": "code",
   "execution_count": 226,
   "metadata": {},
   "outputs": [
    {
     "name": "stdout",
     "output_type": "stream",
     "text": [
      "[[17 20 12]\n",
      " [20 19 10]\n",
      " [ 8 13 20]]\n"
     ]
    }
   ],
   "source": [
    "test[2, 2] = 20\n",
    "print(test)"
   ]
  },
  {
   "cell_type": "markdown",
   "metadata": {},
   "source": [
    "# Summary statistics"
   ]
  },
  {
   "cell_type": "code",
   "execution_count": 227,
   "metadata": {},
   "outputs": [
    {
     "name": "stdout",
     "output_type": "stream",
     "text": [
      "22\n"
     ]
    }
   ],
   "source": [
    "B = np.array([\n",
    "    [1, 2, 3],\n",
    "    [4, 2, 3],\n",
    "    [0, 2, 5]])\n",
    "\n",
    "print(B.sum())"
   ]
  },
  {
   "cell_type": "code",
   "execution_count": 228,
   "metadata": {},
   "outputs": [
    {
     "name": "stdout",
     "output_type": "stream",
     "text": [
      "2.4444444444444446\n"
     ]
    }
   ],
   "source": [
    "print(B.mean())"
   ]
  },
  {
   "cell_type": "code",
   "execution_count": 229,
   "metadata": {},
   "outputs": [
    {
     "name": "stdout",
     "output_type": "stream",
     "text": [
      "1.4229164972072998\n"
     ]
    }
   ],
   "source": [
    "print(B.std())"
   ]
  },
  {
   "cell_type": "code",
   "execution_count": 230,
   "metadata": {},
   "outputs": [
    {
     "name": "stdout",
     "output_type": "stream",
     "text": [
      "2.0246913580246915\n"
     ]
    }
   ],
   "source": [
    "print(B.var())"
   ]
  },
  {
   "cell_type": "code",
   "execution_count": 232,
   "metadata": {},
   "outputs": [
    {
     "name": "stdout",
     "output_type": "stream",
     "text": [
      "[ 5  6 11]\n"
     ]
    }
   ],
   "source": [
    "print(B.sum(axis=0)) # Vertical sums"
   ]
  },
  {
   "cell_type": "code",
   "execution_count": 233,
   "metadata": {},
   "outputs": [
    {
     "name": "stdout",
     "output_type": "stream",
     "text": [
      "[6 9 7]\n"
     ]
    }
   ],
   "source": [
    "print(B.sum(axis=1)) # Horizontal sums"
   ]
  },
  {
   "cell_type": "code",
   "execution_count": 234,
   "metadata": {},
   "outputs": [
    {
     "name": "stdout",
     "output_type": "stream",
     "text": [
      "[1.66666667 2.         3.66666667]\n"
     ]
    }
   ],
   "source": [
    "print(B.mean(axis=0))"
   ]
  },
  {
   "cell_type": "markdown",
   "metadata": {},
   "source": [
    "# Broadcasting and vectorized operations"
   ]
  },
  {
   "cell_type": "code",
   "execution_count": 236,
   "metadata": {},
   "outputs": [
    {
     "name": "stdout",
     "output_type": "stream",
     "text": [
      "[0 1 2 3]\n"
     ]
    }
   ],
   "source": [
    "\"\"\"\n",
    "Reminder:\n",
    "range or arange?\n",
    "The main difference between the two is that range is a built-in Python class,\n",
    "while arange() is a function that belongs to a third-party library (NumPy).\n",
    "In addition, their purposes are different! \n",
    "Generally, range is more suitable when you need to iterate using the Python for loop.\n",
    "\"\"\"\n",
    "a = np.arange(4)\n",
    "print(a)"
   ]
  },
  {
   "cell_type": "code",
   "execution_count": 237,
   "metadata": {},
   "outputs": [
    {
     "name": "stdout",
     "output_type": "stream",
     "text": [
      "[10 11 12 13]\n"
     ]
    }
   ],
   "source": [
    "print(a + 10) #Adds each element with 10"
   ]
  },
  {
   "cell_type": "code",
   "execution_count": 238,
   "metadata": {},
   "outputs": [
    {
     "name": "stdout",
     "output_type": "stream",
     "text": [
      "[ 0 10 20 30]\n"
     ]
    }
   ],
   "source": [
    "print(a * 10) #Multiplies each element with 10"
   ]
  },
  {
   "cell_type": "code",
   "execution_count": 245,
   "metadata": {},
   "outputs": [
    {
     "name": "stdout",
     "output_type": "stream",
     "text": [
      "[1000 1001 1002 1003]\n"
     ]
    }
   ],
   "source": [
    "a += 1000\n",
    "print(a)"
   ]
  },
  {
   "cell_type": "code",
   "execution_count": 246,
   "metadata": {},
   "outputs": [
    {
     "name": "stdout",
     "output_type": "stream",
     "text": [
      "[0 1 2 3]\n"
     ]
    }
   ],
   "source": [
    "a -= 1000\n",
    "print(a)"
   ]
  },
  {
   "cell_type": "code",
   "execution_count": 249,
   "metadata": {},
   "outputs": [
    {
     "name": "stdout",
     "output_type": "stream",
     "text": [
      "[0 2 4 6]\n"
     ]
    }
   ],
   "source": [
    "b = np.arange(4)\n",
    "c = a + b # Will add items correspondingly\n",
    "print(c)"
   ]
  },
  {
   "cell_type": "code",
   "execution_count": 250,
   "metadata": {},
   "outputs": [
    {
     "name": "stdout",
     "output_type": "stream",
     "text": [
      "[[1 2 3]\n",
      " [4 5 6]\n",
      " [7 8 9]]\n"
     ]
    }
   ],
   "source": [
    "A = np.array ([\n",
    "    [1, 2, 3],\n",
    "    [4, 5, 6],\n",
    "    [7, 8, 9]])\n",
    "print(A)"
   ]
  },
  {
   "cell_type": "code",
   "execution_count": 251,
   "metadata": {},
   "outputs": [
    {
     "name": "stdout",
     "output_type": "stream",
     "text": [
      "[[ 2  3  4]\n",
      " [ 5  6  7]\n",
      " [ 8  9 10]]\n"
     ]
    }
   ],
   "source": [
    "print(A+1)"
   ]
  },
  {
   "cell_type": "code",
   "execution_count": 252,
   "metadata": {},
   "outputs": [
    {
     "name": "stdout",
     "output_type": "stream",
     "text": [
      "[[ 2  4  6]\n",
      " [ 8 10 12]\n",
      " [14 16 18]]\n"
     ]
    }
   ],
   "source": [
    "print(A*2)"
   ]
  },
  {
   "cell_type": "code",
   "execution_count": 253,
   "metadata": {},
   "outputs": [
    {
     "name": "stdout",
     "output_type": "stream",
     "text": [
      "[[   3   60  900]\n",
      " [   4   50  600]\n",
      " [  14  160 1800]]\n"
     ]
    }
   ],
   "source": [
    "B = np.array ([\n",
    "    [3, 30, 300],\n",
    "    [1, 10, 100],\n",
    "    [2, 20, 200]])\n",
    "print(A*B) # This produces element-wise multiplication"
   ]
  },
  {
   "cell_type": "code",
   "execution_count": 254,
   "metadata": {},
   "outputs": [
    {
     "ename": "ValueError",
     "evalue": "operands could not be broadcast together with shapes (3,3) (2,2) ",
     "output_type": "error",
     "traceback": [
      "\u001b[1;31m---------------------------------------------------------------------------\u001b[0m",
      "\u001b[1;31mValueError\u001b[0m                                Traceback (most recent call last)",
      "\u001b[1;32m<ipython-input-254-4731f2123d49>\u001b[0m in \u001b[0;36m<module>\u001b[1;34m\u001b[0m\n\u001b[0;32m      2\u001b[0m     \u001b[1;33m[\u001b[0m\u001b[1;36m3\u001b[0m\u001b[1;33m,\u001b[0m \u001b[1;36m30\u001b[0m\u001b[1;33m]\u001b[0m\u001b[1;33m,\u001b[0m\u001b[1;33m\u001b[0m\u001b[1;33m\u001b[0m\u001b[0m\n\u001b[0;32m      3\u001b[0m     [1, 10]])\n\u001b[1;32m----> 4\u001b[1;33m \u001b[0mprint\u001b[0m\u001b[1;33m(\u001b[0m\u001b[0mA\u001b[0m\u001b[1;33m*\u001b[0m\u001b[0mC\u001b[0m\u001b[1;33m)\u001b[0m\u001b[1;33m\u001b[0m\u001b[1;33m\u001b[0m\u001b[0m\n\u001b[0m",
      "\u001b[1;31mValueError\u001b[0m: operands could not be broadcast together with shapes (3,3) (2,2) "
     ]
    }
   ],
   "source": [
    "C = np.array ([\n",
    "    [3, 30],\n",
    "    [1, 10]])\n",
    "print(A*C) # This will result in an error"
   ]
  },
  {
   "cell_type": "code",
   "execution_count": 255,
   "metadata": {},
   "outputs": [
    {
     "name": "stdout",
     "output_type": "stream",
     "text": [
      "[[1000 2000 3000]\n",
      " [4000 5000 6000]\n",
      " [7000 8000 9000]]\n"
     ]
    }
   ],
   "source": [
    "D = np.array([\n",
    "    [1000],\n",
    "    [1000],\n",
    "    [1000]\n",
    "])\n",
    "\n",
    "print(A*D)"
   ]
  },
  {
   "cell_type": "code",
   "execution_count": 256,
   "metadata": {},
   "outputs": [
    {
     "name": "stdout",
     "output_type": "stream",
     "text": [
      "[[10 20 30]\n",
      " [40 50 60]\n",
      " [70 80 90]]\n"
     ]
    }
   ],
   "source": [
    "E = np.array([\n",
    "    [10, 10, 10]\n",
    "])\n",
    "print(A*E)"
   ]
  },
  {
   "cell_type": "code",
   "execution_count": 101,
   "metadata": {},
   "outputs": [
    {
     "name": "stdout",
     "output_type": "stream",
     "text": [
      "[[ 56.    0.    4.4  68. ]\n",
      " [  1.2 104.   52.    8. ]\n",
      " [  1.8 135.   99.    0.9]]\n"
     ]
    }
   ],
   "source": [
    "A = np.array([[56.0, 0.0, 4.4, 68.0],\n",
    "             [1.2, 104.0, 52.0, 8.0],\n",
    "             [1.8, 135.0, 99.0, 0.9]])\n",
    "print(A)"
   ]
  },
  {
   "cell_type": "code",
   "execution_count": 103,
   "metadata": {},
   "outputs": [
    {
     "name": "stdout",
     "output_type": "stream",
     "text": [
      "[ 59.  239.  155.4  76.9]\n"
     ]
    }
   ],
   "source": [
    "cal = A.sum(axis = 0) #If axis = 0, python sums vertically\n",
    "print(cal)"
   ]
  },
  {
   "cell_type": "code",
   "execution_count": 104,
   "metadata": {},
   "outputs": [
    {
     "name": "stdout",
     "output_type": "stream",
     "text": [
      "[128.4 165.2 236.7]\n"
     ]
    }
   ],
   "source": [
    "cal2 = A.sum(axis = 1)#If axis = 1, python sums horizontally\n",
    "print(cal2)"
   ]
  },
  {
   "cell_type": "code",
   "execution_count": 105,
   "metadata": {},
   "outputs": [
    {
     "name": "stdout",
     "output_type": "stream",
     "text": [
      "[[94.91525424  0.          2.83140283 88.42652796]\n",
      " [ 2.03389831 43.51464435 33.46203346 10.40312094]\n",
      " [ 3.05084746 56.48535565 63.70656371  1.17035111]]\n"
     ]
    }
   ],
   "source": [
    "percentage = 100*A/cal.reshape(1,4) # We could have avoided writing reshape(1,4), because cal is laready in that shape. It is kind of to make sure everything is correct!!!!\n",
    "print(percentage)"
   ]
  },
  {
   "cell_type": "markdown",
   "metadata": {},
   "source": [
    "# Numpy and Vectorization"
   ]
  },
  {
   "cell_type": "code",
   "execution_count": 69,
   "metadata": {},
   "outputs": [],
   "source": [
    "import numpy as np\n",
    "\n",
    "a = np.array([1, 2, 3, 4, 5, 6, 7, 8, 9, 10]) # This is an array genererated with numpy"
   ]
  },
  {
   "cell_type": "code",
   "execution_count": 70,
   "metadata": {},
   "outputs": [
    {
     "name": "stdout",
     "output_type": "stream",
     "text": [
      "<class 'numpy.ndarray'>\n"
     ]
    }
   ],
   "source": [
    "print(type(a))"
   ]
  },
  {
   "cell_type": "code",
   "execution_count": 71,
   "metadata": {},
   "outputs": [
    {
     "name": "stdout",
     "output_type": "stream",
     "text": [
      "[ 1  2  3  4  5  6  7  8  9 10]\n"
     ]
    }
   ],
   "source": [
    "print(a) # printing the array"
   ]
  },
  {
   "cell_type": "code",
   "execution_count": 85,
   "metadata": {},
   "outputs": [
    {
     "name": "stdout",
     "output_type": "stream",
     "text": [
      "vectorized version:  1.0001659393310547 ms\n",
      "\n",
      "c =  250245.2227706333\n"
     ]
    }
   ],
   "source": [
    "# vectorization means that we don't use for loops\n",
    "import time \n",
    "\n",
    "a = np.random.rand(1000000)\n",
    "b = np.random.rand(1000000)\n",
    "\n",
    "tic = time.time()\n",
    "c = np.dot(a, b) # similar to (w^T)* x\n",
    "toc = time.time()\n",
    "\n",
    "print(\"vectorized version: \", (toc-tic)*1000, \"ms\\n\")\n",
    "print(\"c = \", c)"
   ]
  },
  {
   "cell_type": "code",
   "execution_count": 86,
   "metadata": {},
   "outputs": [
    {
     "name": "stdout",
     "output_type": "stream",
     "text": [
      "for loop version:  593.4576988220215 ms\n",
      "\n",
      "c =  250245.22277063166\n"
     ]
    }
   ],
   "source": [
    "c = 0\n",
    "tic = time.time()\n",
    "for i in range(1000000):\n",
    "    c += a[i]*b[i]\n",
    "toc = time.time()\n",
    "\n",
    "print(\"for loop version: \", (toc-tic)*1000, \"ms\\n\")\n",
    "print(\"c = \", c)"
   ]
  },
  {
   "cell_type": "markdown",
   "metadata": {},
   "source": [
    "# Numpy"
   ]
  },
  {
   "cell_type": "code",
   "execution_count": 87,
   "metadata": {},
   "outputs": [
    {
     "name": "stdout",
     "output_type": "stream",
     "text": [
      "[[0. 0. 0.]\n",
      " [0. 0. 0.]\n",
      " [0. 0. 0.]\n",
      " [0. 0. 0.]\n",
      " [0. 0. 0.]]\n"
     ]
    }
   ],
   "source": [
    "import numpy as np\n",
    "\n",
    "z = np.zeros((5,3)) # 5 rows and 3 columns\n",
    "print(z)"
   ]
  },
  {
   "cell_type": "code",
   "execution_count": 91,
   "metadata": {},
   "outputs": [
    {
     "name": "stdout",
     "output_type": "stream",
     "text": [
      "[[1. 1. 1. 1.]\n",
      " [1. 1. 1. 1.]]\n"
     ]
    }
   ],
   "source": [
    "o = np.ones((2,4)) # 2 rows and 4 columns\n",
    "print(o)"
   ]
  },
  {
   "cell_type": "code",
   "execution_count": 93,
   "metadata": {},
   "outputs": [
    {
     "name": "stdout",
     "output_type": "stream",
     "text": [
      "[[  1.        ]\n",
      " [  2.71828183]\n",
      " [  7.3890561 ]\n",
      " [ 20.08553692]\n",
      " [ 54.59815003]\n",
      " [148.4131591 ]]\n"
     ]
    }
   ],
   "source": [
    "# A bad approach\n",
    "import math\n",
    "\n",
    "a=np.array([0, 1, 2, 3, 4, 5])\n",
    "u=np.zeros((6, 1))\n",
    "\n",
    "for i in range(6):\n",
    "    u[i] = math.exp(a[i])\n",
    "\n",
    "print(u)"
   ]
  },
  {
   "cell_type": "code",
   "execution_count": 100,
   "metadata": {},
   "outputs": [
    {
     "name": "stdout",
     "output_type": "stream",
     "text": [
      "[  1.           2.71828183   7.3890561   20.08553692  54.59815003\n",
      " 148.4131591 ]\n"
     ]
    }
   ],
   "source": [
    "# A good approach\n",
    "# Instead, we could write\n",
    "u = np.exp(a) # This is vectorization because we don't use for loops anymore\n",
    "print(u)"
   ]
  },
  {
   "cell_type": "markdown",
   "metadata": {},
   "source": [
    "# Suggestions "
   ]
  },
  {
   "cell_type": "code",
   "execution_count": 110,
   "metadata": {},
   "outputs": [
    {
     "name": "stdout",
     "output_type": "stream",
     "text": [
      "[-1.80155712 -0.77515702 -0.6121915  -0.3747502  -0.2387494 ]\n"
     ]
    }
   ],
   "source": [
    "a = np.random.randn(5)# random gaussian numbers \n",
    "print(a)"
   ]
  },
  {
   "cell_type": "code",
   "execution_count": 113,
   "metadata": {},
   "outputs": [
    {
     "name": "stdout",
     "output_type": "stream",
     "text": [
      "(5,)\n"
     ]
    }
   ],
   "source": [
    "print(a.shape) # You clearly see that this is not a vector # Do not use rank 1 arrays like this!!!"
   ]
  },
  {
   "cell_type": "code",
   "execution_count": 114,
   "metadata": {},
   "outputs": [
    {
     "name": "stdout",
     "output_type": "stream",
     "text": [
      "[-1.80155712 -0.77515702 -0.6121915  -0.3747502  -0.2387494 ]\n"
     ]
    }
   ],
   "source": [
    "print(a.T)# We see that the transpose is the same"
   ]
  },
  {
   "cell_type": "code",
   "execution_count": 115,
   "metadata": {},
   "outputs": [
    {
     "name": "stdout",
     "output_type": "stream",
     "text": [
      "[[-0.84471783]\n",
      " [ 1.982594  ]\n",
      " [-0.37981728]\n",
      " [ 0.03902724]\n",
      " [ 0.5157601 ]]\n"
     ]
    }
   ],
   "source": [
    "# So, the suggestion is to avoid creating things that have shape like (5,)\n",
    "# Make clear vectors\n",
    "b = np.random.randn(5, 1) # Like this\n",
    "print(b)"
   ]
  },
  {
   "cell_type": "code",
   "execution_count": 116,
   "metadata": {},
   "outputs": [
    {
     "name": "stdout",
     "output_type": "stream",
     "text": [
      "(5, 1)\n"
     ]
    }
   ],
   "source": [
    "print(b.shape)"
   ]
  },
  {
   "cell_type": "code",
   "execution_count": 117,
   "metadata": {},
   "outputs": [
    {
     "name": "stdout",
     "output_type": "stream",
     "text": [
      "[[-0.84471783  1.982594   -0.37981728  0.03902724  0.5157601 ]]\n"
     ]
    }
   ],
   "source": [
    "print(b.T)# Now, we can create this beautiful transpose"
   ]
  },
  {
   "cell_type": "code",
   "execution_count": 127,
   "metadata": {},
   "outputs": [
    {
     "name": "stdout",
     "output_type": "stream",
     "text": [
      "[[-1.80155712]\n",
      " [-0.77515702]\n",
      " [-0.6121915 ]\n",
      " [-0.3747502 ]\n",
      " [-0.2387494 ]]\n"
     ]
    }
   ],
   "source": [
    "# What can we do to fix a?\n",
    "a = a.reshape(5,1)\n",
    "print(a)"
   ]
  },
  {
   "cell_type": "code",
   "execution_count": 129,
   "metadata": {},
   "outputs": [
    {
     "name": "stdout",
     "output_type": "stream",
     "text": [
      "[[-0.02170128  0.22850884 -0.09742981]\n",
      " [ 0.37566268 -0.09725285  0.11940799]\n",
      " [ 0.239979   -0.03239958 -0.40649077]]\n"
     ]
    }
   ],
   "source": [
    "a = np.random.randn(3, 3)\n",
    "b = np.random.randn(3, 1) # Broadcasting happends here too!!!\n",
    "c = a*b\n",
    "print(c)"
   ]
  },
  {
   "cell_type": "markdown",
   "metadata": {},
   "source": [
    "# Pandas"
   ]
  },
  {
   "cell_type": "code",
   "execution_count": 126,
   "metadata": {},
   "outputs": [],
   "source": [
    "# I want to start using pandas\n",
    "import pandas as pd\n",
    "import numpy as np"
   ]
  },
  {
   "cell_type": "code",
   "execution_count": 128,
   "metadata": {},
   "outputs": [
    {
     "data": {
      "text/plain": [
       "0     Reza\n",
       "1      Jim\n",
       "2    Mitra\n",
       "3      Ann\n",
       "dtype: object"
      ]
     },
     "execution_count": 128,
     "metadata": {},
     "output_type": "execute_result"
    }
   ],
   "source": [
    "# Series\n",
    "# You can think of it as a cross btween list and dictionary\n",
    "# As you might expect, you can create a series by passing in a list of values\n",
    "# When you do this, pandas automatically assigns assigns an index starting from zero, and sets the name of the series to None\n",
    "\n",
    "students = [\"Reza\", \"Jim\", \"Mitra\", \"Ann\"]\n",
    "\n",
    "pd.Series(students) #This will create a series "
   ]
  },
  {
   "cell_type": "code",
   "execution_count": 130,
   "metadata": {},
   "outputs": [
    {
     "data": {
      "text/plain": [
       "0     85\n",
       "1     90\n",
       "2     67\n",
       "3    100\n",
       "dtype: int64"
      ]
     },
     "execution_count": 130,
     "metadata": {},
     "output_type": "execute_result"
    }
   ],
   "source": [
    "Grades = [85, 90, 67, 100]\n",
    "\n",
    "pd.Series(Grades) # This will create a series"
   ]
  },
  {
   "cell_type": "code",
   "execution_count": 132,
   "metadata": {},
   "outputs": [
    {
     "data": {
      "text/plain": [
       "0    Naghmeh\n",
       "1    Nazanin\n",
       "2       Asal\n",
       "3       None\n",
       "dtype: object"
      ]
     },
     "execution_count": 132,
     "metadata": {},
     "output_type": "execute_result"
    }
   ],
   "source": [
    "#How does pandas handle missing data?\n",
    "students = [\"Naghmeh\", \"Nazanin\", \"Asal\", None]\n",
    "\n",
    "pd.Series(students)"
   ]
  },
  {
   "cell_type": "code",
   "execution_count": 134,
   "metadata": {},
   "outputs": [
    {
     "data": {
      "text/plain": [
       "0     90.0\n",
       "1    100.0\n",
       "2      NaN\n",
       "3     80.0\n",
       "dtype: float64"
      ]
     },
     "execution_count": 134,
     "metadata": {},
     "output_type": "execute_result"
    }
   ],
   "source": [
    "Grades = [90, 100, None, 80]\n",
    "\n",
    "pd.Series(Grades) #NaN means not a number. To show NaN, it changed all data types to float"
   ]
  },
  {
   "cell_type": "code",
   "execution_count": 135,
   "metadata": {},
   "outputs": [
    {
     "name": "stdout",
     "output_type": "stream",
     "text": [
      "True\n"
     ]
    }
   ],
   "source": [
    "# We need to use a special function to check for the presence of a nan\n",
    "print(np.isnan(np.nan))"
   ]
  },
  {
   "cell_type": "code",
   "execution_count": 137,
   "metadata": {},
   "outputs": [
    {
     "name": "stdout",
     "output_type": "stream",
     "text": [
      "False\n",
      "False\n"
     ]
    }
   ],
   "source": [
    "# However:\n",
    "print(np.nan == None)\n",
    "print(np.nan == np.nan)\n",
    "# So the moral lesson is to always use np.isnan() to check for the existence of \"not a number\""
   ]
  },
  {
   "cell_type": "code",
   "execution_count": 141,
   "metadata": {},
   "outputs": [],
   "source": [
    "# A series can be created directly from a dictionary data\n",
    "student_course = {\n",
    "    \"Reza\" : \"Chemistry\",\n",
    "    \"Tina\" : \"IT\",\n",
    "    \"Sam\" : \"Math\",\n",
    "    \"Mary\" : \"Geography\"}\n",
    "\n",
    "s = pd.Series(student_course)"
   ]
  },
  {
   "cell_type": "code",
   "execution_count": 142,
   "metadata": {},
   "outputs": [
    {
     "data": {
      "text/plain": [
       "Index(['Reza', 'Tina', 'Sam', 'Mary'], dtype='object')"
      ]
     },
     "execution_count": 142,
     "metadata": {},
     "output_type": "execute_result"
    }
   ],
   "source": [
    "s.index # You can see that pandas treats everything like numpy objects"
   ]
  },
  {
   "cell_type": "code",
   "execution_count": 148,
   "metadata": {},
   "outputs": [
    {
     "data": {
      "text/plain": [
       "0      (Reza, Blue)\n",
       "1     (Sian, Brown)\n",
       "2      (Kim, Black)\n",
       "3    (Rose, Orange)\n",
       "4        (Sam, Red)\n",
       "dtype: object"
      ]
     },
     "execution_count": 148,
     "metadata": {},
     "output_type": "execute_result"
    }
   ],
   "source": [
    "# A list of tuples\n",
    "student_color = [(\"Reza\" , \"Blue\"), (\"Sian\" , \"Brown\"), (\"Kim\" , \"Black\"), (\"Rose\" , \"Orange\"),(\"Sam\" , \"Red\")]\n",
    "\n",
    "pd.Series(student_color) "
   ]
  },
  {
   "cell_type": "code",
   "execution_count": 150,
   "metadata": {},
   "outputs": [
    {
     "name": "stdout",
     "output_type": "stream",
     "text": [
      "I1    12\n",
      "I2    13\n",
      "I3    14\n",
      "I4    20\n",
      "I5     8\n",
      "dtype: int64\n"
     ]
    }
   ],
   "source": [
    "# We can separate index creation from data passing\n",
    "\n",
    "s1 = pd.Series([12, 13, 14, 20, 8], index = [\"I1\", \"I2\", \"I3\", \"I4\", \"I5\"])\n",
    "\n",
    "print(s1)"
   ]
  },
  {
   "cell_type": "code",
   "execution_count": 152,
   "metadata": {},
   "outputs": [
    {
     "data": {
      "text/plain": [
       "Tom     80.0\n",
       "I2       NaN\n",
       "Sina    52.0\n",
       "dtype: float64"
      ]
     },
     "execution_count": 152,
     "metadata": {},
     "output_type": "execute_result"
    }
   ],
   "source": [
    "# What if the index is not alligned with dictionary key\n",
    "student_grade = {\n",
    "    \"Tom\" : 80,\n",
    "    \"Tina\" : 98,\n",
    "    \"Sina\" : 52}\n",
    "\n",
    "pd.Series(student_grade, index = [\"Tom\", \"I2\", \"Sina\"])"
   ]
  }
 ],
 "metadata": {
  "kernelspec": {
   "display_name": "Python 3",
   "language": "python",
   "name": "python3"
  },
  "language_info": {
   "codemirror_mode": {
    "name": "ipython",
    "version": 3
   },
   "file_extension": ".py",
   "mimetype": "text/x-python",
   "name": "python",
   "nbconvert_exporter": "python",
   "pygments_lexer": "ipython3",
   "version": "3.7.6"
  }
 },
 "nbformat": 4,
 "nbformat_minor": 4
}
